{
 "cells": [
  {
   "cell_type": "code",
   "execution_count": 1,
   "id": "c8194b29",
   "metadata": {
    "_cell_guid": "b1076dfc-b9ad-4769-8c92-a6c4dae69d19",
    "_uuid": "8f2839f25d086af736a60e9eeb907d3b93b6e0e5",
    "execution": {
     "iopub.execute_input": "2022-08-18T09:59:23.633883Z",
     "iopub.status.busy": "2022-08-18T09:59:23.633047Z",
     "iopub.status.idle": "2022-08-18T09:59:25.357990Z",
     "shell.execute_reply": "2022-08-18T09:59:25.356901Z"
    },
    "papermill": {
     "duration": 1.743786,
     "end_time": "2022-08-18T09:59:25.361963",
     "exception": false,
     "start_time": "2022-08-18T09:59:23.618177",
     "status": "completed"
    },
    "tags": []
   },
   "outputs": [
    {
     "name": "stdout",
     "output_type": "stream",
     "text": [
      "/kaggle/input/titanic/train.csv\n",
      "/kaggle/input/titanic/test.csv\n",
      "/kaggle/input/titanic/gender_submission.csv\n"
     ]
    }
   ],
   "source": [
    "# This Python 3 environment comes with many helpful analytics libraries installed\n",
    "# It is defined by the kaggle/python Docker image: https://github.com/kaggle/docker-python\n",
    "# For example, here's several helpful packages to load\n",
    "\n",
    "# data analysis and wrangling\n",
    "import pandas as pd\n",
    "import numpy as np\n",
    "import random as rnd\n",
    "\n",
    "# visualization\n",
    "import seaborn as sns\n",
    "import matplotlib.pyplot as plt\n",
    "%matplotlib inline\n",
    "\n",
    "# machine learning\n",
    "from sklearn.linear_model import LogisticRegression\n",
    "from sklearn.svm import SVC, LinearSVC\n",
    "from sklearn.ensemble import RandomForestClassifier\n",
    "from sklearn.neighbors import KNeighborsClassifier\n",
    "from sklearn.naive_bayes import GaussianNB\n",
    "from sklearn.linear_model import Perceptron\n",
    "from sklearn.linear_model import SGDClassifier\n",
    "from sklearn.tree import DecisionTreeClassifier\n",
    "\n",
    "\n",
    "\n",
    "# Input data files are available in the read-only \"../input/\" directory\n",
    "# For example, running this (by clicking run or pressing Shift+Enter) will list all files under the input directory\n",
    "\n",
    "import os\n",
    "for dirname, _, filenames in os.walk('/kaggle/input'):\n",
    "    for filename in filenames:\n",
    "        print(os.path.join(dirname, filename))\n",
    "\n",
    "# You can write up to 20GB to the current directory (/kaggle/working/) that gets preserved as output when you create a version using \"Save & Run All\" \n",
    "# You can also write temporary files to /kaggle/temp/, but they won't be saved outside of the current session"
   ]
  },
  {
   "cell_type": "markdown",
   "id": "e4fd1a21",
   "metadata": {
    "papermill": {
     "duration": 0.011696,
     "end_time": "2022-08-18T09:59:25.386156",
     "exception": false,
     "start_time": "2022-08-18T09:59:25.374460",
     "status": "completed"
    },
    "tags": []
   },
   "source": [
    "Reference Notebooks:\n",
    "1. [Titanic Data Science Solutions](https://www.kaggle.com/code/startupsci/titanic-data-science-solutions) by [Manav Sehgal](https://www.kaggle.com/startupsci)\n",
    "2. [Titanic Project Example](https://www.kaggle.com/code/kenjee/titanic-project-example/notebook) by [KenJee](https://www.kaggle.com/kenjee)\n",
    "3. [A Guide to Handling Missing values in Python](https://www.kaggle.com/code/parulpandey/a-guide-to-handling-missing-values-in-python) by [Parul Pandey](https://www.kaggle.com/parulpandey). Notebook referenced in Kaggle Book (Chapter on \"Modeling for Tabular Competitions\").\n",
    "4. [Titanic: Keras + KerasTuner best practices](https://www.kaggle.com/code/fchollet/titanic-keras-kerastuner-best-practices/notebook) by [fchollet](https://www.kaggle.com/fchollet). Notebook referenced in Kaggle Book (Chapter on \"Hyperparameter optimization\").\n",
    "5. [Titanic Tutorial](https://www.kaggle.com/code/alexisbcook/titanic-tutorial/notebook) by [Alexis Cook](https://www.kaggle.com/alexisbcook)\n",
    "6. [An Interactive Data Science Tutorial](https://www.kaggle.com/code/helgejo/an-interactive-data-science-tutorial) by [Helgejo](https://www.kaggle.com/code/helgejo/an-interactive-data-science-tutorial)\n",
    "7. [Hands-on Machine Learning: Classification](https://github.com/ageron/handson-ml2/blob/master/03_classification.ipynb) by [Aurélien Geron](https://github.com/ageron)"
   ]
  },
  {
   "cell_type": "markdown",
   "id": "1e7661b1",
   "metadata": {
    "papermill": {
     "duration": 0.010111,
     "end_time": "2022-08-18T09:59:25.408576",
     "exception": false,
     "start_time": "2022-08-18T09:59:25.398465",
     "status": "completed"
    },
    "tags": []
   },
   "source": [
    "# Problem definition and understanding\n",
    "\n",
    "The [Titanic - Machine Learning from Disaster](https://www.kaggle.com/c/titanic) problem is described as follows: We shall build a predictive machine learning model that answers the question: \"what sorts of people were more likely to survive?\", using passenger data like name, age, gender, socio-economic class, etc. We are working with 1309 observations of 12 variables. The data has been split into two groups: a training set (train.csv) and a test set (test.csv). For the training set the outcome (\"ground truth\") for each passenger is provided. It is your job to predict these outcomes for the test set.\n",
    "\n",
    "## Variable Description\n",
    "\n",
    "- PassengerId: a unique identifier for each passengerPassengerId: a unique identifier for each passenger\n",
    "- Survived: Survived (1) or died (0)\n",
    "- Pclass: Passenger's class\n",
    "- Name: Passenger's name\n",
    "- Sex: Passenger's sex\n",
    "- Age: Passenger's age\n",
    "- SibSp: Number of siblings/spouses aboard\n",
    "- Parch: Number of parents/children aboard\n",
    "- Ticket: Ticket number\n",
    "- Fare: Fare\n",
    "- Cabin: Cabin\n",
    "- Embarked: Port of embarkation\n",
    "\n",
    "# Data analysis"
   ]
  },
  {
   "cell_type": "code",
   "execution_count": 2,
   "id": "577542bf",
   "metadata": {
    "execution": {
     "iopub.execute_input": "2022-08-18T09:59:25.432512Z",
     "iopub.status.busy": "2022-08-18T09:59:25.432058Z",
     "iopub.status.idle": "2022-08-18T09:59:25.476589Z",
     "shell.execute_reply": "2022-08-18T09:59:25.475344Z"
    },
    "papermill": {
     "duration": 0.059617,
     "end_time": "2022-08-18T09:59:25.479359",
     "exception": false,
     "start_time": "2022-08-18T09:59:25.419742",
     "status": "completed"
    },
    "tags": []
   },
   "outputs": [],
   "source": [
    "df_train = pd.read_csv('../input/titanic/train.csv')\n",
    "df_test = pd.read_csv('../input/titanic/test.csv')\n",
    "df_full = df_train.append(df_test, ignore_index = True)\n",
    "\n",
    "combine = [df_train, df_test]"
   ]
  },
  {
   "cell_type": "code",
   "execution_count": 3,
   "id": "7ca0760b",
   "metadata": {
    "execution": {
     "iopub.execute_input": "2022-08-18T09:59:25.505635Z",
     "iopub.status.busy": "2022-08-18T09:59:25.504779Z",
     "iopub.status.idle": "2022-08-18T09:59:25.516120Z",
     "shell.execute_reply": "2022-08-18T09:59:25.514391Z"
    },
    "papermill": {
     "duration": 0.02757,
     "end_time": "2022-08-18T09:59:25.519047",
     "exception": false,
     "start_time": "2022-08-18T09:59:25.491477",
     "status": "completed"
    },
    "tags": []
   },
   "outputs": [
    {
     "data": {
      "text/plain": [
       "Index(['PassengerId', 'Survived', 'Pclass', 'Name', 'Sex', 'Age', 'SibSp',\n",
       "       'Parch', 'Ticket', 'Fare', 'Cabin', 'Embarked'],\n",
       "      dtype='object')"
      ]
     },
     "execution_count": 3,
     "metadata": {},
     "output_type": "execute_result"
    }
   ],
   "source": [
    "df_train.columns"
   ]
  },
  {
   "cell_type": "code",
   "execution_count": 4,
   "id": "c08e179d",
   "metadata": {
    "execution": {
     "iopub.execute_input": "2022-08-18T09:59:25.545605Z",
     "iopub.status.busy": "2022-08-18T09:59:25.544705Z",
     "iopub.status.idle": "2022-08-18T09:59:25.555540Z",
     "shell.execute_reply": "2022-08-18T09:59:25.553912Z"
    },
    "papermill": {
     "duration": 0.027119,
     "end_time": "2022-08-18T09:59:25.558620",
     "exception": false,
     "start_time": "2022-08-18T09:59:25.531501",
     "status": "completed"
    },
    "tags": []
   },
   "outputs": [],
   "source": [
    "# set the PassengerId column as the index column\n",
    "df_train = df_train.set_index(\"PassengerId\")\n",
    "df_test = df_test.set_index(\"PassengerId\")"
   ]
  },
  {
   "cell_type": "code",
   "execution_count": 5,
   "id": "36cc90b6",
   "metadata": {
    "execution": {
     "iopub.execute_input": "2022-08-18T09:59:25.583493Z",
     "iopub.status.busy": "2022-08-18T09:59:25.582314Z",
     "iopub.status.idle": "2022-08-18T09:59:25.606718Z",
     "shell.execute_reply": "2022-08-18T09:59:25.604782Z"
    },
    "papermill": {
     "duration": 0.040082,
     "end_time": "2022-08-18T09:59:25.609786",
     "exception": false,
     "start_time": "2022-08-18T09:59:25.569704",
     "status": "completed"
    },
    "tags": []
   },
   "outputs": [
    {
     "data": {
      "text/html": [
       "<div>\n",
       "<style scoped>\n",
       "    .dataframe tbody tr th:only-of-type {\n",
       "        vertical-align: middle;\n",
       "    }\n",
       "\n",
       "    .dataframe tbody tr th {\n",
       "        vertical-align: top;\n",
       "    }\n",
       "\n",
       "    .dataframe thead th {\n",
       "        text-align: right;\n",
       "    }\n",
       "</style>\n",
       "<table border=\"1\" class=\"dataframe\">\n",
       "  <thead>\n",
       "    <tr style=\"text-align: right;\">\n",
       "      <th></th>\n",
       "      <th>Survived</th>\n",
       "      <th>Pclass</th>\n",
       "      <th>Name</th>\n",
       "      <th>Sex</th>\n",
       "      <th>Age</th>\n",
       "      <th>SibSp</th>\n",
       "      <th>Parch</th>\n",
       "      <th>Ticket</th>\n",
       "      <th>Fare</th>\n",
       "      <th>Cabin</th>\n",
       "      <th>Embarked</th>\n",
       "    </tr>\n",
       "    <tr>\n",
       "      <th>PassengerId</th>\n",
       "      <th></th>\n",
       "      <th></th>\n",
       "      <th></th>\n",
       "      <th></th>\n",
       "      <th></th>\n",
       "      <th></th>\n",
       "      <th></th>\n",
       "      <th></th>\n",
       "      <th></th>\n",
       "      <th></th>\n",
       "      <th></th>\n",
       "    </tr>\n",
       "  </thead>\n",
       "  <tbody>\n",
       "    <tr>\n",
       "      <th>1</th>\n",
       "      <td>0</td>\n",
       "      <td>3</td>\n",
       "      <td>Braund, Mr. Owen Harris</td>\n",
       "      <td>male</td>\n",
       "      <td>22.0</td>\n",
       "      <td>1</td>\n",
       "      <td>0</td>\n",
       "      <td>A/5 21171</td>\n",
       "      <td>7.2500</td>\n",
       "      <td>NaN</td>\n",
       "      <td>S</td>\n",
       "    </tr>\n",
       "    <tr>\n",
       "      <th>2</th>\n",
       "      <td>1</td>\n",
       "      <td>1</td>\n",
       "      <td>Cumings, Mrs. John Bradley (Florence Briggs Th...</td>\n",
       "      <td>female</td>\n",
       "      <td>38.0</td>\n",
       "      <td>1</td>\n",
       "      <td>0</td>\n",
       "      <td>PC 17599</td>\n",
       "      <td>71.2833</td>\n",
       "      <td>C85</td>\n",
       "      <td>C</td>\n",
       "    </tr>\n",
       "    <tr>\n",
       "      <th>3</th>\n",
       "      <td>1</td>\n",
       "      <td>3</td>\n",
       "      <td>Heikkinen, Miss. Laina</td>\n",
       "      <td>female</td>\n",
       "      <td>26.0</td>\n",
       "      <td>0</td>\n",
       "      <td>0</td>\n",
       "      <td>STON/O2. 3101282</td>\n",
       "      <td>7.9250</td>\n",
       "      <td>NaN</td>\n",
       "      <td>S</td>\n",
       "    </tr>\n",
       "    <tr>\n",
       "      <th>4</th>\n",
       "      <td>1</td>\n",
       "      <td>1</td>\n",
       "      <td>Futrelle, Mrs. Jacques Heath (Lily May Peel)</td>\n",
       "      <td>female</td>\n",
       "      <td>35.0</td>\n",
       "      <td>1</td>\n",
       "      <td>0</td>\n",
       "      <td>113803</td>\n",
       "      <td>53.1000</td>\n",
       "      <td>C123</td>\n",
       "      <td>S</td>\n",
       "    </tr>\n",
       "    <tr>\n",
       "      <th>5</th>\n",
       "      <td>0</td>\n",
       "      <td>3</td>\n",
       "      <td>Allen, Mr. William Henry</td>\n",
       "      <td>male</td>\n",
       "      <td>35.0</td>\n",
       "      <td>0</td>\n",
       "      <td>0</td>\n",
       "      <td>373450</td>\n",
       "      <td>8.0500</td>\n",
       "      <td>NaN</td>\n",
       "      <td>S</td>\n",
       "    </tr>\n",
       "  </tbody>\n",
       "</table>\n",
       "</div>"
      ],
      "text/plain": [
       "             Survived  Pclass  \\\n",
       "PassengerId                     \n",
       "1                   0       3   \n",
       "2                   1       1   \n",
       "3                   1       3   \n",
       "4                   1       1   \n",
       "5                   0       3   \n",
       "\n",
       "                                                          Name     Sex   Age  \\\n",
       "PassengerId                                                                    \n",
       "1                                      Braund, Mr. Owen Harris    male  22.0   \n",
       "2            Cumings, Mrs. John Bradley (Florence Briggs Th...  female  38.0   \n",
       "3                                       Heikkinen, Miss. Laina  female  26.0   \n",
       "4                 Futrelle, Mrs. Jacques Heath (Lily May Peel)  female  35.0   \n",
       "5                                     Allen, Mr. William Henry    male  35.0   \n",
       "\n",
       "             SibSp  Parch            Ticket     Fare Cabin Embarked  \n",
       "PassengerId                                                          \n",
       "1                1      0         A/5 21171   7.2500   NaN        S  \n",
       "2                1      0          PC 17599  71.2833   C85        C  \n",
       "3                0      0  STON/O2. 3101282   7.9250   NaN        S  \n",
       "4                1      0            113803  53.1000  C123        S  \n",
       "5                0      0            373450   8.0500   NaN        S  "
      ]
     },
     "execution_count": 5,
     "metadata": {},
     "output_type": "execute_result"
    }
   ],
   "source": [
    "df_train.head()"
   ]
  },
  {
   "cell_type": "code",
   "execution_count": 6,
   "id": "c44695b6",
   "metadata": {
    "execution": {
     "iopub.execute_input": "2022-08-18T09:59:25.634719Z",
     "iopub.status.busy": "2022-08-18T09:59:25.634245Z",
     "iopub.status.idle": "2022-08-18T09:59:25.646229Z",
     "shell.execute_reply": "2022-08-18T09:59:25.644871Z"
    },
    "papermill": {
     "duration": 0.027312,
     "end_time": "2022-08-18T09:59:25.649087",
     "exception": false,
     "start_time": "2022-08-18T09:59:25.621775",
     "status": "completed"
    },
    "tags": []
   },
   "outputs": [
    {
     "data": {
      "text/plain": [
       "0    549\n",
       "1    342\n",
       "Name: Survived, dtype: int64"
      ]
     },
     "execution_count": 6,
     "metadata": {},
     "output_type": "execute_result"
    }
   ],
   "source": [
    "# Examine target column\n",
    "df_train['Survived'].value_counts()"
   ]
  },
  {
   "cell_type": "markdown",
   "id": "219b242a",
   "metadata": {
    "papermill": {
     "duration": 0.01108,
     "end_time": "2022-08-18T09:59:25.671098",
     "exception": false,
     "start_time": "2022-08-18T09:59:25.660018",
     "status": "completed"
    },
    "tags": []
   },
   "source": [
    "The **target** is categorical / binary: `Survived`. Around 38 % of the samples in the training set have survived = 1, which is a little more than the actual survival rate of 32 %. \n",
    "\n",
    "The 891 samples of the training set make up 40 % of the actual number of passengers on the Titanic, which is 2224. In the info-table below we can already see what could be numerical and categorial features. \n",
    "\n",
    "The **numerical** features are:\n",
    "* Continous (float64): `Age` (in years), `Fare` (= passenger fare)\n",
    "* Discrete (int64): `SibSp` (= number of siblings / spouses aboard the Titanic), `Parch` (= number of PARents / CHildren aboard the Titanic)\n",
    "\n",
    "And as **categorical** features:\n",
    "* Categorical: `Sex` and `Embarked` (Port of Embarkation). \n",
    "* Ordinal: `Pclass`.\n",
    "\n",
    "## [Interim step] First model and rough prediction"
   ]
  },
  {
   "cell_type": "code",
   "execution_count": 7,
   "id": "9613f107",
   "metadata": {
    "execution": {
     "iopub.execute_input": "2022-08-18T09:59:25.697496Z",
     "iopub.status.busy": "2022-08-18T09:59:25.696487Z",
     "iopub.status.idle": "2022-08-18T09:59:25.912832Z",
     "shell.execute_reply": "2022-08-18T09:59:25.910898Z"
    },
    "papermill": {
     "duration": 0.232871,
     "end_time": "2022-08-18T09:59:25.916121",
     "exception": false,
     "start_time": "2022-08-18T09:59:25.683250",
     "status": "completed"
    },
    "tags": []
   },
   "outputs": [
    {
     "name": "stdout",
     "output_type": "stream",
     "text": [
      "0.19730941704035873\n"
     ]
    }
   ],
   "source": [
    "from sklearn.ensemble import RandomForestClassifier\n",
    "from sklearn.model_selection import train_test_split\n",
    "from sklearn.metrics import mean_absolute_error\n",
    "\n",
    "y = df_train[\"Survived\"]\n",
    "\n",
    "features = [\"Pclass\", \"Sex\", \"SibSp\", \"Parch\"]\n",
    "X = pd.get_dummies(df_train[features])\n",
    "X_test = pd.get_dummies(df_test[features])\n",
    "\n",
    "# split data into training and validation data, for both features and target\n",
    "train_X, val_X, train_y, val_y = train_test_split(X, y, random_state = 0)\n",
    "\n",
    "# train model\n",
    "model = RandomForestClassifier(n_estimators=100, max_depth=5, random_state=1)\n",
    "model.fit(train_X, train_y)\n",
    "\n",
    "# get predictions and MAE\n",
    "val_predictions = model.predict(val_X)\n",
    "print(mean_absolute_error(val_y, val_predictions))"
   ]
  },
  {
   "cell_type": "markdown",
   "id": "9d7cca84",
   "metadata": {
    "papermill": {
     "duration": 0.011711,
     "end_time": "2022-08-18T09:59:25.940432",
     "exception": false,
     "start_time": "2022-08-18T09:59:25.928721",
     "status": "completed"
    },
    "tags": []
   },
   "source": [
    "## Missing values\n",
    "\n",
    "We want to look for missing values and, most importantly, missing value patterns correlated with the target."
   ]
  },
  {
   "cell_type": "code",
   "execution_count": 8,
   "id": "3066bc56",
   "metadata": {
    "execution": {
     "iopub.execute_input": "2022-08-18T09:59:25.967455Z",
     "iopub.status.busy": "2022-08-18T09:59:25.966717Z",
     "iopub.status.idle": "2022-08-18T09:59:25.985071Z",
     "shell.execute_reply": "2022-08-18T09:59:25.982972Z"
    },
    "papermill": {
     "duration": 0.036736,
     "end_time": "2022-08-18T09:59:25.989041",
     "exception": false,
     "start_time": "2022-08-18T09:59:25.952305",
     "status": "completed"
    },
    "tags": []
   },
   "outputs": [
    {
     "name": "stdout",
     "output_type": "stream",
     "text": [
      "<class 'pandas.core.frame.DataFrame'>\n",
      "Int64Index: 891 entries, 1 to 891\n",
      "Data columns (total 11 columns):\n",
      " #   Column    Non-Null Count  Dtype  \n",
      "---  ------    --------------  -----  \n",
      " 0   Survived  891 non-null    int64  \n",
      " 1   Pclass    891 non-null    int64  \n",
      " 2   Name      891 non-null    object \n",
      " 3   Sex       891 non-null    object \n",
      " 4   Age       714 non-null    float64\n",
      " 5   SibSp     891 non-null    int64  \n",
      " 6   Parch     891 non-null    int64  \n",
      " 7   Ticket    891 non-null    object \n",
      " 8   Fare      891 non-null    float64\n",
      " 9   Cabin     204 non-null    object \n",
      " 10  Embarked  889 non-null    object \n",
      "dtypes: float64(2), int64(4), object(5)\n",
      "memory usage: 83.5+ KB\n"
     ]
    }
   ],
   "source": [
    "df_train.info()"
   ]
  },
  {
   "cell_type": "code",
   "execution_count": 9,
   "id": "bf3b7065",
   "metadata": {
    "execution": {
     "iopub.execute_input": "2022-08-18T09:59:26.015862Z",
     "iopub.status.busy": "2022-08-18T09:59:26.015400Z",
     "iopub.status.idle": "2022-08-18T09:59:26.043696Z",
     "shell.execute_reply": "2022-08-18T09:59:26.042666Z"
    },
    "papermill": {
     "duration": 0.0452,
     "end_time": "2022-08-18T09:59:26.046475",
     "exception": false,
     "start_time": "2022-08-18T09:59:26.001275",
     "status": "completed"
    },
    "tags": []
   },
   "outputs": [
    {
     "name": "stdout",
     "output_type": "stream",
     "text": [
      "Your selected dataframe has 11 columns.\n",
      "There are 3 columns that have missing values.\n"
     ]
    },
    {
     "data": {
      "text/html": [
       "<div>\n",
       "<style scoped>\n",
       "    .dataframe tbody tr th:only-of-type {\n",
       "        vertical-align: middle;\n",
       "    }\n",
       "\n",
       "    .dataframe tbody tr th {\n",
       "        vertical-align: top;\n",
       "    }\n",
       "\n",
       "    .dataframe thead th {\n",
       "        text-align: right;\n",
       "    }\n",
       "</style>\n",
       "<table border=\"1\" class=\"dataframe\">\n",
       "  <thead>\n",
       "    <tr style=\"text-align: right;\">\n",
       "      <th></th>\n",
       "      <th>Missing Values</th>\n",
       "      <th>% of Total Values</th>\n",
       "    </tr>\n",
       "  </thead>\n",
       "  <tbody>\n",
       "    <tr>\n",
       "      <th>Cabin</th>\n",
       "      <td>687</td>\n",
       "      <td>77.1</td>\n",
       "    </tr>\n",
       "    <tr>\n",
       "      <th>Age</th>\n",
       "      <td>177</td>\n",
       "      <td>19.9</td>\n",
       "    </tr>\n",
       "    <tr>\n",
       "      <th>Embarked</th>\n",
       "      <td>2</td>\n",
       "      <td>0.2</td>\n",
       "    </tr>\n",
       "  </tbody>\n",
       "</table>\n",
       "</div>"
      ],
      "text/plain": [
       "          Missing Values  % of Total Values\n",
       "Cabin                687               77.1\n",
       "Age                  177               19.9\n",
       "Embarked               2                0.2"
      ]
     },
     "execution_count": 9,
     "metadata": {},
     "output_type": "execute_result"
    }
   ],
   "source": [
    "def missing_values_table(df):\n",
    "        # Total missing values\n",
    "        mis_val = df.isnull().sum()\n",
    "        \n",
    "        # Percentage of missing values\n",
    "        mis_val_percent = 100 * df.isnull().sum() / len(df)\n",
    "        \n",
    "        # Make a table with the results\n",
    "        mis_val_table = pd.concat([mis_val, mis_val_percent], axis=1)\n",
    "        \n",
    "        # Rename the columns\n",
    "        mis_val_table_ren_columns = mis_val_table.rename(\n",
    "        columns = {0 : 'Missing Values', 1 : '% of Total Values'})\n",
    "        \n",
    "        # Sort the table by percentage of missing descending\n",
    "        mis_val_table_ren_columns = mis_val_table_ren_columns[\n",
    "            mis_val_table_ren_columns.iloc[:,1] != 0].sort_values(\n",
    "        '% of Total Values', ascending=False).round(1)\n",
    "        \n",
    "        # Print some summary information\n",
    "        print (\"Your selected dataframe has \" + str(df.shape[1]) + \" columns.\\n\"      \n",
    "            \"There are \" + str(mis_val_table_ren_columns.shape[0]) +\n",
    "              \" columns that have missing values.\")\n",
    "        \n",
    "        # Return the dataframe with missing information\n",
    "        return mis_val_table_ren_columns\n",
    "    \n",
    "missing_values_table(df_train)"
   ]
  },
  {
   "cell_type": "markdown",
   "id": "8d8c36c7",
   "metadata": {
    "papermill": {
     "duration": 0.012019,
     "end_time": "2022-08-18T09:59:26.070786",
     "exception": false,
     "start_time": "2022-08-18T09:59:26.058767",
     "status": "completed"
    },
    "tags": []
   },
   "source": [
    "Replacing null values with the median age seems reasonable.Replacing null values with the median age seems reasonable.\n",
    "\n",
    "## Numeric variables distribution\n",
    "\n",
    "We want to look for skewed numeric variables and their possible transformations. The **numerical** features are:\n",
    "* Continous (float64): `Age` (in years), `Fare` (= passenger fare)\n",
    "* Discrete (int64): `PassengerId`, `SibSp` (= number of siblings / spouses aboard the Titanic), `Parch` (= number of PARents / CHildren aboard the Titanic)"
   ]
  },
  {
   "cell_type": "code",
   "execution_count": 10,
   "id": "4044b608",
   "metadata": {
    "execution": {
     "iopub.execute_input": "2022-08-18T09:59:26.097072Z",
     "iopub.status.busy": "2022-08-18T09:59:26.096591Z",
     "iopub.status.idle": "2022-08-18T09:59:26.102475Z",
     "shell.execute_reply": "2022-08-18T09:59:26.101518Z"
    },
    "papermill": {
     "duration": 0.022161,
     "end_time": "2022-08-18T09:59:26.105140",
     "exception": false,
     "start_time": "2022-08-18T09:59:26.082979",
     "status": "completed"
    },
    "tags": []
   },
   "outputs": [],
   "source": [
    "# look at numeric and categorical values separately \n",
    "df_num = df_train[['Age','SibSp','Parch','Fare']]"
   ]
  },
  {
   "cell_type": "code",
   "execution_count": 11,
   "id": "7aac6eeb",
   "metadata": {
    "execution": {
     "iopub.execute_input": "2022-08-18T09:59:26.132029Z",
     "iopub.status.busy": "2022-08-18T09:59:26.131032Z",
     "iopub.status.idle": "2022-08-18T09:59:26.161611Z",
     "shell.execute_reply": "2022-08-18T09:59:26.160225Z"
    },
    "papermill": {
     "duration": 0.047035,
     "end_time": "2022-08-18T09:59:26.164341",
     "exception": false,
     "start_time": "2022-08-18T09:59:26.117306",
     "status": "completed"
    },
    "scrolled": true,
    "tags": []
   },
   "outputs": [
    {
     "data": {
      "text/html": [
       "<div>\n",
       "<style scoped>\n",
       "    .dataframe tbody tr th:only-of-type {\n",
       "        vertical-align: middle;\n",
       "    }\n",
       "\n",
       "    .dataframe tbody tr th {\n",
       "        vertical-align: top;\n",
       "    }\n",
       "\n",
       "    .dataframe thead th {\n",
       "        text-align: right;\n",
       "    }\n",
       "</style>\n",
       "<table border=\"1\" class=\"dataframe\">\n",
       "  <thead>\n",
       "    <tr style=\"text-align: right;\">\n",
       "      <th></th>\n",
       "      <th>Age</th>\n",
       "      <th>SibSp</th>\n",
       "      <th>Parch</th>\n",
       "      <th>Fare</th>\n",
       "    </tr>\n",
       "  </thead>\n",
       "  <tbody>\n",
       "    <tr>\n",
       "      <th>count</th>\n",
       "      <td>714.000000</td>\n",
       "      <td>891.000000</td>\n",
       "      <td>891.000000</td>\n",
       "      <td>891.000000</td>\n",
       "    </tr>\n",
       "    <tr>\n",
       "      <th>mean</th>\n",
       "      <td>29.699118</td>\n",
       "      <td>0.523008</td>\n",
       "      <td>0.381594</td>\n",
       "      <td>32.204208</td>\n",
       "    </tr>\n",
       "    <tr>\n",
       "      <th>std</th>\n",
       "      <td>14.526497</td>\n",
       "      <td>1.102743</td>\n",
       "      <td>0.806057</td>\n",
       "      <td>49.693429</td>\n",
       "    </tr>\n",
       "    <tr>\n",
       "      <th>min</th>\n",
       "      <td>0.420000</td>\n",
       "      <td>0.000000</td>\n",
       "      <td>0.000000</td>\n",
       "      <td>0.000000</td>\n",
       "    </tr>\n",
       "    <tr>\n",
       "      <th>25%</th>\n",
       "      <td>20.125000</td>\n",
       "      <td>0.000000</td>\n",
       "      <td>0.000000</td>\n",
       "      <td>7.910400</td>\n",
       "    </tr>\n",
       "    <tr>\n",
       "      <th>50%</th>\n",
       "      <td>28.000000</td>\n",
       "      <td>0.000000</td>\n",
       "      <td>0.000000</td>\n",
       "      <td>14.454200</td>\n",
       "    </tr>\n",
       "    <tr>\n",
       "      <th>75%</th>\n",
       "      <td>38.000000</td>\n",
       "      <td>1.000000</td>\n",
       "      <td>0.000000</td>\n",
       "      <td>31.000000</td>\n",
       "    </tr>\n",
       "    <tr>\n",
       "      <th>max</th>\n",
       "      <td>80.000000</td>\n",
       "      <td>8.000000</td>\n",
       "      <td>6.000000</td>\n",
       "      <td>512.329200</td>\n",
       "    </tr>\n",
       "  </tbody>\n",
       "</table>\n",
       "</div>"
      ],
      "text/plain": [
       "              Age       SibSp       Parch        Fare\n",
       "count  714.000000  891.000000  891.000000  891.000000\n",
       "mean    29.699118    0.523008    0.381594   32.204208\n",
       "std     14.526497    1.102743    0.806057   49.693429\n",
       "min      0.420000    0.000000    0.000000    0.000000\n",
       "25%     20.125000    0.000000    0.000000    7.910400\n",
       "50%     28.000000    0.000000    0.000000   14.454200\n",
       "75%     38.000000    1.000000    0.000000   31.000000\n",
       "max     80.000000    8.000000    6.000000  512.329200"
      ]
     },
     "execution_count": 11,
     "metadata": {},
     "output_type": "execute_result"
    }
   ],
   "source": [
    "df_num.describe()"
   ]
  },
  {
   "cell_type": "code",
   "execution_count": 12,
   "id": "bdb9a436",
   "metadata": {
    "execution": {
     "iopub.execute_input": "2022-08-18T09:59:26.191509Z",
     "iopub.status.busy": "2022-08-18T09:59:26.190855Z",
     "iopub.status.idle": "2022-08-18T09:59:27.131399Z",
     "shell.execute_reply": "2022-08-18T09:59:27.129254Z"
    },
    "papermill": {
     "duration": 0.957844,
     "end_time": "2022-08-18T09:59:27.134823",
     "exception": false,
     "start_time": "2022-08-18T09:59:26.176979",
     "status": "completed"
    },
    "tags": []
   },
   "outputs": [
    {
     "data": {
      "image/png": "[encoded data removed]",
      "text/plain": [
       "<Figure size 432x288 with 1 Axes>"
      ]
     },
     "metadata": {
      "needs_background": "light"
     },
     "output_type": "display_data"
    },
    {
     "data": {
      "image/png": "[encoded data removed]",
      "text/plain": [
       "<Figure size 432x288 with 1 Axes>"
      ]
     },
     "metadata": {
      "needs_background": "light"
     },
     "output_type": "display_data"
    },
    {
     "data": {
      "image/png": "[encoded data removed]",
      "text/plain": [
       "<Figure size 432x288 with 1 Axes>"
      ]
     },
     "metadata": {
      "needs_background": "light"
     },
     "output_type": "display_data"
    },
    {
     "data": {
      "image/png": "[encoded data removed]",
      "text/plain": [
       "<Figure size 432x288 with 1 Axes>"
      ]
     },
     "metadata": {
      "needs_background": "light"
     },
     "output_type": "display_data"
    }
   ],
   "source": [
    "# plot histograms\n",
    "for i in df_num.columns:\n",
    "    plt.hist(df_num[i])\n",
    "    plt.title(i)\n",
    "    plt.show()"
   ]
  },
  {
   "cell_type": "markdown",
   "id": "8e522bf0",
   "metadata": {
    "papermill": {
     "duration": 0.012718,
     "end_time": "2022-08-18T09:59:27.161378",
     "exception": false,
     "start_time": "2022-08-18T09:59:27.148660",
     "status": "completed"
    },
    "tags": []
   },
   "source": [
    "Observations about the numerical features:\n",
    "\n",
    "* `PassengerId` does not contribute to survival. We have already set it as an index for our DataFrame.\n",
    "* `Age` We have mostly young people between 20 and 30. Few elderly passengers (<1%) within age range 65-80! Since it has about 19% missing values, we might want to **complete the feature** (perhaps with median age). Also age bands could be relevant as a **new feature** (ordinal categorical instead of numerical).\n",
    "* `SibSp` Nearly 30% of the passengers had siblings and/or spouse aboard.\n",
    "* `Parch` Most passengers (> 75%) did not travel with parents or children. We could think of the total count of family members on board (`SibSp`+`Parch`) as a **new feature**.\n",
    "* `Fare` varies significantly with few passengers (<1%) paying as high as 512 Dollars. We may also want to create a Fare range **new feature** if it helps our analysis.\n",
    "\n",
    "Looking at the histograms, KenJee considers normalizing the relevant features. But we'll come back to that later."
   ]
  },
  {
   "cell_type": "markdown",
   "id": "28cea69d",
   "metadata": {
    "papermill": {
     "duration": 0.014079,
     "end_time": "2022-08-18T09:59:27.189600",
     "exception": false,
     "start_time": "2022-08-18T09:59:27.175521",
     "status": "completed"
    },
    "tags": []
   },
   "source": [
    "## Categorical features distribution\n",
    "\n",
    "Further look for: Rare categories in categorical variables that can be grouped together; Potential outliers, both univariate and multivariate.\n",
    "\n",
    "And as **categorical** features:\n",
    "* Categorical: `Survived` (the target variable: 0 or 1), `Sex` and `Embarked` (Port of Embarkation). \n",
    "* Ordinal: `Pclass`.\n",
    "\n"
   ]
  },
  {
   "cell_type": "code",
   "execution_count": 13,
   "id": "b51dda92",
   "metadata": {
    "execution": {
     "iopub.execute_input": "2022-08-18T09:59:27.218318Z",
     "iopub.status.busy": "2022-08-18T09:59:27.217567Z",
     "iopub.status.idle": "2022-08-18T09:59:27.243056Z",
     "shell.execute_reply": "2022-08-18T09:59:27.241534Z"
    },
    "papermill": {
     "duration": 0.04345,
     "end_time": "2022-08-18T09:59:27.246329",
     "exception": false,
     "start_time": "2022-08-18T09:59:27.202879",
     "status": "completed"
    },
    "tags": []
   },
   "outputs": [
    {
     "data": {
      "text/html": [
       "<div>\n",
       "<style scoped>\n",
       "    .dataframe tbody tr th:only-of-type {\n",
       "        vertical-align: middle;\n",
       "    }\n",
       "\n",
       "    .dataframe tbody tr th {\n",
       "        vertical-align: top;\n",
       "    }\n",
       "\n",
       "    .dataframe thead th {\n",
       "        text-align: right;\n",
       "    }\n",
       "</style>\n",
       "<table border=\"1\" class=\"dataframe\">\n",
       "  <thead>\n",
       "    <tr style=\"text-align: right;\">\n",
       "      <th></th>\n",
       "      <th>Name</th>\n",
       "      <th>Sex</th>\n",
       "      <th>Ticket</th>\n",
       "      <th>Cabin</th>\n",
       "      <th>Embarked</th>\n",
       "    </tr>\n",
       "  </thead>\n",
       "  <tbody>\n",
       "    <tr>\n",
       "      <th>count</th>\n",
       "      <td>891</td>\n",
       "      <td>891</td>\n",
       "      <td>891</td>\n",
       "      <td>204</td>\n",
       "      <td>889</td>\n",
       "    </tr>\n",
       "    <tr>\n",
       "      <th>unique</th>\n",
       "      <td>891</td>\n",
       "      <td>2</td>\n",
       "      <td>681</td>\n",
       "      <td>147</td>\n",
       "      <td>3</td>\n",
       "    </tr>\n",
       "    <tr>\n",
       "      <th>top</th>\n",
       "      <td>Braund, Mr. Owen Harris</td>\n",
       "      <td>male</td>\n",
       "      <td>347082</td>\n",
       "      <td>B96 B98</td>\n",
       "      <td>S</td>\n",
       "    </tr>\n",
       "    <tr>\n",
       "      <th>freq</th>\n",
       "      <td>1</td>\n",
       "      <td>577</td>\n",
       "      <td>7</td>\n",
       "      <td>4</td>\n",
       "      <td>644</td>\n",
       "    </tr>\n",
       "  </tbody>\n",
       "</table>\n",
       "</div>"
      ],
      "text/plain": [
       "                           Name   Sex  Ticket    Cabin Embarked\n",
       "count                       891   891     891      204      889\n",
       "unique                      891     2     681      147        3\n",
       "top     Braund, Mr. Owen Harris  male  347082  B96 B98        S\n",
       "freq                          1   577       7        4      644"
      ]
     },
     "execution_count": 13,
     "metadata": {},
     "output_type": "execute_result"
    }
   ],
   "source": [
    "df_cat = df_train[['Survived','Pclass','Name','Sex','Ticket','Cabin','Embarked']]\n",
    "df_cat.describe(include=['O'])"
   ]
  },
  {
   "cell_type": "markdown",
   "id": "4f17bae3",
   "metadata": {
    "papermill": {
     "duration": 0.013769,
     "end_time": "2022-08-18T09:59:27.273076",
     "exception": false,
     "start_time": "2022-08-18T09:59:27.259307",
     "status": "completed"
    },
    "tags": []
   },
   "source": [
    "Observations:\n",
    "* `Name` will probably not influence the survival and is also completely unique across the dataset, so can be dropped. The titles might be relevant as a **new feature**, though.\n",
    "* `Sex` variable has two possible values with 65% male (577 of 891).\n",
    "* `Ticket` may be dropped from our analysis as it contains high ratio of duplicates (22%) and there may not be a correlation between Ticket and survival. (But it could be.)\n",
    "* `Cabin` values have several dupicates across samples. Alternatively several passengers shared a cabin. Referring to Malav, it can be dropped as it is highly incomplete or contains many null values both in training and test dataset. KenJee creates categories based on the cabin letter.\n",
    "* `Embarked` takes three possible values. Most passengers have embarked from \"S\". Since it has missing values, we might want to **complete the feature**.\n"
   ]
  },
  {
   "cell_type": "markdown",
   "id": "47cab517",
   "metadata": {
    "papermill": {
     "duration": 0.012743,
     "end_time": "2022-08-18T09:59:27.299090",
     "exception": false,
     "start_time": "2022-08-18T09:59:27.286347",
     "status": "completed"
    },
    "tags": []
   },
   "source": [
    "## Correlations\n",
    "\n",
    "Look for: Highly correlated (or even duplicated) features. For categorical variables, focus on categories that overlap. The most predictive features for the problem."
   ]
  },
  {
   "cell_type": "markdown",
   "id": "da64dcc0",
   "metadata": {
    "papermill": {
     "duration": 0.013596,
     "end_time": "2022-08-18T09:59:27.325445",
     "exception": false,
     "start_time": "2022-08-18T09:59:27.311849",
     "status": "completed"
    },
    "tags": []
   },
   "source": []
  },
  {
   "cell_type": "markdown",
   "id": "c83c8f32",
   "metadata": {
    "papermill": {
     "duration": 0.012108,
     "end_time": "2022-08-18T09:59:27.350882",
     "exception": false,
     "start_time": "2022-08-18T09:59:27.338774",
     "status": "completed"
    },
    "tags": []
   },
   "source": [
    "While Malav makes *separate pivoting features* to confirm his observations, KenJee compares survival rate across Age, SibSp, Parch and Fare in one *pivot table*, which seems a little clearer."
   ]
  },
  {
   "cell_type": "code",
   "execution_count": 14,
   "id": "e4d2aed3",
   "metadata": {
    "execution": {
     "iopub.execute_input": "2022-08-18T09:59:27.379420Z",
     "iopub.status.busy": "2022-08-18T09:59:27.378241Z",
     "iopub.status.idle": "2022-08-18T09:59:27.409640Z",
     "shell.execute_reply": "2022-08-18T09:59:27.408458Z"
    },
    "papermill": {
     "duration": 0.048897,
     "end_time": "2022-08-18T09:59:27.412141",
     "exception": false,
     "start_time": "2022-08-18T09:59:27.363244",
     "status": "completed"
    },
    "tags": []
   },
   "outputs": [
    {
     "data": {
      "text/html": [
       "<div>\n",
       "<style scoped>\n",
       "    .dataframe tbody tr th:only-of-type {\n",
       "        vertical-align: middle;\n",
       "    }\n",
       "\n",
       "    .dataframe tbody tr th {\n",
       "        vertical-align: top;\n",
       "    }\n",
       "\n",
       "    .dataframe thead th {\n",
       "        text-align: right;\n",
       "    }\n",
       "</style>\n",
       "<table border=\"1\" class=\"dataframe\">\n",
       "  <thead>\n",
       "    <tr style=\"text-align: right;\">\n",
       "      <th></th>\n",
       "      <th>Age</th>\n",
       "      <th>Fare</th>\n",
       "      <th>Parch</th>\n",
       "      <th>SibSp</th>\n",
       "    </tr>\n",
       "    <tr>\n",
       "      <th>Survived</th>\n",
       "      <th></th>\n",
       "      <th></th>\n",
       "      <th></th>\n",
       "      <th></th>\n",
       "    </tr>\n",
       "  </thead>\n",
       "  <tbody>\n",
       "    <tr>\n",
       "      <th>0</th>\n",
       "      <td>30.626179</td>\n",
       "      <td>22.117887</td>\n",
       "      <td>0.329690</td>\n",
       "      <td>0.553734</td>\n",
       "    </tr>\n",
       "    <tr>\n",
       "      <th>1</th>\n",
       "      <td>28.343690</td>\n",
       "      <td>48.395408</td>\n",
       "      <td>0.464912</td>\n",
       "      <td>0.473684</td>\n",
       "    </tr>\n",
       "  </tbody>\n",
       "</table>\n",
       "</div>"
      ],
      "text/plain": [
       "                Age       Fare     Parch     SibSp\n",
       "Survived                                          \n",
       "0         30.626179  22.117887  0.329690  0.553734\n",
       "1         28.343690  48.395408  0.464912  0.473684"
      ]
     },
     "execution_count": 14,
     "metadata": {},
     "output_type": "execute_result"
    }
   ],
   "source": [
    "# pivot table for numerical features\n",
    "pd.pivot_table(df_train, index = 'Survived', values = ['Age','SibSp','Parch','Fare'])"
   ]
  },
  {
   "cell_type": "markdown",
   "id": "bbfbcde8",
   "metadata": {
    "papermill": {
     "duration": 0.012344,
     "end_time": "2022-08-18T09:59:27.437363",
     "exception": false,
     "start_time": "2022-08-18T09:59:27.425019",
     "status": "completed"
    },
    "tags": []
   },
   "source": [
    "`Age`: Children were more likely to have survived. \n",
    "\n",
    "Lets have a look at our categorical variables, too. Here we use separate correlation tables for each variable:"
   ]
  },
  {
   "cell_type": "code",
   "execution_count": 15,
   "id": "18930300",
   "metadata": {
    "execution": {
     "iopub.execute_input": "2022-08-18T09:59:27.466385Z",
     "iopub.status.busy": "2022-08-18T09:59:27.465960Z",
     "iopub.status.idle": "2022-08-18T09:59:27.485701Z",
     "shell.execute_reply": "2022-08-18T09:59:27.484265Z"
    },
    "papermill": {
     "duration": 0.038163,
     "end_time": "2022-08-18T09:59:27.488546",
     "exception": false,
     "start_time": "2022-08-18T09:59:27.450383",
     "status": "completed"
    },
    "tags": []
   },
   "outputs": [
    {
     "data": {
      "text/html": [
       "<div>\n",
       "<style scoped>\n",
       "    .dataframe tbody tr th:only-of-type {\n",
       "        vertical-align: middle;\n",
       "    }\n",
       "\n",
       "    .dataframe tbody tr th {\n",
       "        vertical-align: top;\n",
       "    }\n",
       "\n",
       "    .dataframe thead th {\n",
       "        text-align: right;\n",
       "    }\n",
       "</style>\n",
       "<table border=\"1\" class=\"dataframe\">\n",
       "  <thead>\n",
       "    <tr style=\"text-align: right;\">\n",
       "      <th></th>\n",
       "      <th>Pclass</th>\n",
       "      <th>Survived</th>\n",
       "    </tr>\n",
       "  </thead>\n",
       "  <tbody>\n",
       "    <tr>\n",
       "      <th>0</th>\n",
       "      <td>1</td>\n",
       "      <td>0.629630</td>\n",
       "    </tr>\n",
       "    <tr>\n",
       "      <th>1</th>\n",
       "      <td>2</td>\n",
       "      <td>0.472826</td>\n",
       "    </tr>\n",
       "    <tr>\n",
       "      <th>2</th>\n",
       "      <td>3</td>\n",
       "      <td>0.242363</td>\n",
       "    </tr>\n",
       "  </tbody>\n",
       "</table>\n",
       "</div>"
      ],
      "text/plain": [
       "   Pclass  Survived\n",
       "0       1  0.629630\n",
       "1       2  0.472826\n",
       "2       3  0.242363"
      ]
     },
     "execution_count": 15,
     "metadata": {},
     "output_type": "execute_result"
    }
   ],
   "source": [
    "# Correlation of \"Pclass\" with \"Survived\"\n",
    "df_train[['Pclass', 'Survived']].groupby(['Pclass'], as_index=False).mean().sort_values(by='Survived', ascending=False)"
   ]
  },
  {
   "cell_type": "markdown",
   "id": "447c8144",
   "metadata": {
    "papermill": {
     "duration": 0.014651,
     "end_time": "2022-08-18T09:59:27.517734",
     "exception": false,
     "start_time": "2022-08-18T09:59:27.503083",
     "status": "completed"
    },
    "tags": []
   },
   "source": [
    "We can see the correlation between Pclass = 1 and Survived is quite high, over 62 %. This feature should definitely be **included** in our model."
   ]
  },
  {
   "cell_type": "code",
   "execution_count": 16,
   "id": "185549ca",
   "metadata": {
    "execution": {
     "iopub.execute_input": "2022-08-18T09:59:27.548296Z",
     "iopub.status.busy": "2022-08-18T09:59:27.547516Z",
     "iopub.status.idle": "2022-08-18T09:59:27.566702Z",
     "shell.execute_reply": "2022-08-18T09:59:27.565238Z"
    },
    "papermill": {
     "duration": 0.037792,
     "end_time": "2022-08-18T09:59:27.570167",
     "exception": false,
     "start_time": "2022-08-18T09:59:27.532375",
     "status": "completed"
    },
    "tags": []
   },
   "outputs": [
    {
     "data": {
      "text/html": [
       "<div>\n",
       "<style scoped>\n",
       "    .dataframe tbody tr th:only-of-type {\n",
       "        vertical-align: middle;\n",
       "    }\n",
       "\n",
       "    .dataframe tbody tr th {\n",
       "        vertical-align: top;\n",
       "    }\n",
       "\n",
       "    .dataframe thead th {\n",
       "        text-align: right;\n",
       "    }\n",
       "</style>\n",
       "<table border=\"1\" class=\"dataframe\">\n",
       "  <thead>\n",
       "    <tr style=\"text-align: right;\">\n",
       "      <th></th>\n",
       "      <th>Sex</th>\n",
       "      <th>Survived</th>\n",
       "    </tr>\n",
       "  </thead>\n",
       "  <tbody>\n",
       "    <tr>\n",
       "      <th>0</th>\n",
       "      <td>female</td>\n",
       "      <td>0.742038</td>\n",
       "    </tr>\n",
       "    <tr>\n",
       "      <th>1</th>\n",
       "      <td>male</td>\n",
       "      <td>0.188908</td>\n",
       "    </tr>\n",
       "  </tbody>\n",
       "</table>\n",
       "</div>"
      ],
      "text/plain": [
       "      Sex  Survived\n",
       "0  female  0.742038\n",
       "1    male  0.188908"
      ]
     },
     "execution_count": 16,
     "metadata": {},
     "output_type": "execute_result"
    }
   ],
   "source": [
    "# Correlation of \"Sex\" with \"Survived\"\n",
    "df_train[[\"Sex\", \"Survived\"]].groupby(['Sex'], as_index=False).mean().sort_values(by='Survived', ascending=False)\n",
    "\n"
   ]
  },
  {
   "cell_type": "code",
   "execution_count": 17,
   "id": "9cd9ba4d",
   "metadata": {
    "execution": {
     "iopub.execute_input": "2022-08-18T09:59:27.600272Z",
     "iopub.status.busy": "2022-08-18T09:59:27.599853Z",
     "iopub.status.idle": "2022-08-18T09:59:27.607491Z",
     "shell.execute_reply": "2022-08-18T09:59:27.606332Z"
    },
    "papermill": {
     "duration": 0.02557,
     "end_time": "2022-08-18T09:59:27.609941",
     "exception": false,
     "start_time": "2022-08-18T09:59:27.584371",
     "status": "completed"
    },
    "tags": []
   },
   "outputs": [],
   "source": [
    "def plot_categories( df , cat , target , **kwargs ):\n",
    "    row = kwargs.get( 'row' , None )\n",
    "    col = kwargs.get( 'col' , None )\n",
    "    facet = sns.FacetGrid( df , row = row , col = col )\n",
    "    facet.map( sns.barplot , cat , target )\n",
    "    facet.add_legend()\n",
    "\n",
    "    plot_categories(df_train, cat = 'Sex' , target = 'Survived' )"
   ]
  },
  {
   "cell_type": "markdown",
   "id": "7a874e6a",
   "metadata": {
    "papermill": {
     "duration": 0.014354,
     "end_time": "2022-08-18T09:59:27.639056",
     "exception": false,
     "start_time": "2022-08-18T09:59:27.624702",
     "status": "completed"
    },
    "tags": []
   },
   "source": [
    "With over 74 % the survival rate for Sex = female is significantly higher than for male. We should **include** this, too. "
   ]
  },
  {
   "cell_type": "code",
   "execution_count": 18,
   "id": "97bba841",
   "metadata": {
    "execution": {
     "iopub.execute_input": "2022-08-18T09:59:27.670885Z",
     "iopub.status.busy": "2022-08-18T09:59:27.670385Z",
     "iopub.status.idle": "2022-08-18T09:59:27.689652Z",
     "shell.execute_reply": "2022-08-18T09:59:27.688443Z"
    },
    "papermill": {
     "duration": 0.037994,
     "end_time": "2022-08-18T09:59:27.692201",
     "exception": false,
     "start_time": "2022-08-18T09:59:27.654207",
     "status": "completed"
    },
    "tags": []
   },
   "outputs": [
    {
     "data": {
      "text/html": [
       "<div>\n",
       "<style scoped>\n",
       "    .dataframe tbody tr th:only-of-type {\n",
       "        vertical-align: middle;\n",
       "    }\n",
       "\n",
       "    .dataframe tbody tr th {\n",
       "        vertical-align: top;\n",
       "    }\n",
       "\n",
       "    .dataframe thead th {\n",
       "        text-align: right;\n",
       "    }\n",
       "</style>\n",
       "<table border=\"1\" class=\"dataframe\">\n",
       "  <thead>\n",
       "    <tr style=\"text-align: right;\">\n",
       "      <th></th>\n",
       "      <th>SibSp</th>\n",
       "      <th>Survived</th>\n",
       "    </tr>\n",
       "  </thead>\n",
       "  <tbody>\n",
       "    <tr>\n",
       "      <th>1</th>\n",
       "      <td>1</td>\n",
       "      <td>0.535885</td>\n",
       "    </tr>\n",
       "    <tr>\n",
       "      <th>2</th>\n",
       "      <td>2</td>\n",
       "      <td>0.464286</td>\n",
       "    </tr>\n",
       "    <tr>\n",
       "      <th>0</th>\n",
       "      <td>0</td>\n",
       "      <td>0.345395</td>\n",
       "    </tr>\n",
       "    <tr>\n",
       "      <th>3</th>\n",
       "      <td>3</td>\n",
       "      <td>0.250000</td>\n",
       "    </tr>\n",
       "    <tr>\n",
       "      <th>4</th>\n",
       "      <td>4</td>\n",
       "      <td>0.166667</td>\n",
       "    </tr>\n",
       "    <tr>\n",
       "      <th>5</th>\n",
       "      <td>5</td>\n",
       "      <td>0.000000</td>\n",
       "    </tr>\n",
       "    <tr>\n",
       "      <th>6</th>\n",
       "      <td>8</td>\n",
       "      <td>0.000000</td>\n",
       "    </tr>\n",
       "  </tbody>\n",
       "</table>\n",
       "</div>"
      ],
      "text/plain": [
       "   SibSp  Survived\n",
       "1      1  0.535885\n",
       "2      2  0.464286\n",
       "0      0  0.345395\n",
       "3      3  0.250000\n",
       "4      4  0.166667\n",
       "5      5  0.000000\n",
       "6      8  0.000000"
      ]
     },
     "execution_count": 18,
     "metadata": {},
     "output_type": "execute_result"
    }
   ],
   "source": [
    "# Correleation of \"SibSp\" with \"Survived\"\n",
    "df_train[[\"SibSp\", \"Survived\"]].groupby(['SibSp'], as_index=False).mean().sort_values(by='Survived', ascending=False)"
   ]
  },
  {
   "cell_type": "markdown",
   "id": "71d1c2b2",
   "metadata": {
    "papermill": {
     "duration": 0.014489,
     "end_time": "2022-08-18T09:59:27.721587",
     "exception": false,
     "start_time": "2022-08-18T09:59:27.707098",
     "status": "completed"
    },
    "tags": []
   },
   "source": [
    "As we said before, the \"SibSp\" and \"Parch\" columns may be used to create some **new feature**. (But why not separate?)"
   ]
  },
  {
   "cell_type": "code",
   "execution_count": 19,
   "id": "c257b5c2",
   "metadata": {
    "execution": {
     "iopub.execute_input": "2022-08-18T09:59:27.753441Z",
     "iopub.status.busy": "2022-08-18T09:59:27.753040Z",
     "iopub.status.idle": "2022-08-18T09:59:27.772463Z",
     "shell.execute_reply": "2022-08-18T09:59:27.770944Z"
    },
    "papermill": {
     "duration": 0.039482,
     "end_time": "2022-08-18T09:59:27.775973",
     "exception": false,
     "start_time": "2022-08-18T09:59:27.736491",
     "status": "completed"
    },
    "tags": []
   },
   "outputs": [
    {
     "data": {
      "text/html": [
       "<div>\n",
       "<style scoped>\n",
       "    .dataframe tbody tr th:only-of-type {\n",
       "        vertical-align: middle;\n",
       "    }\n",
       "\n",
       "    .dataframe tbody tr th {\n",
       "        vertical-align: top;\n",
       "    }\n",
       "\n",
       "    .dataframe thead th {\n",
       "        text-align: right;\n",
       "    }\n",
       "</style>\n",
       "<table border=\"1\" class=\"dataframe\">\n",
       "  <thead>\n",
       "    <tr style=\"text-align: right;\">\n",
       "      <th></th>\n",
       "      <th>Parch</th>\n",
       "      <th>Survived</th>\n",
       "    </tr>\n",
       "  </thead>\n",
       "  <tbody>\n",
       "    <tr>\n",
       "      <th>3</th>\n",
       "      <td>3</td>\n",
       "      <td>0.600000</td>\n",
       "    </tr>\n",
       "    <tr>\n",
       "      <th>1</th>\n",
       "      <td>1</td>\n",
       "      <td>0.550847</td>\n",
       "    </tr>\n",
       "    <tr>\n",
       "      <th>2</th>\n",
       "      <td>2</td>\n",
       "      <td>0.500000</td>\n",
       "    </tr>\n",
       "    <tr>\n",
       "      <th>0</th>\n",
       "      <td>0</td>\n",
       "      <td>0.343658</td>\n",
       "    </tr>\n",
       "    <tr>\n",
       "      <th>5</th>\n",
       "      <td>5</td>\n",
       "      <td>0.200000</td>\n",
       "    </tr>\n",
       "    <tr>\n",
       "      <th>4</th>\n",
       "      <td>4</td>\n",
       "      <td>0.000000</td>\n",
       "    </tr>\n",
       "    <tr>\n",
       "      <th>6</th>\n",
       "      <td>6</td>\n",
       "      <td>0.000000</td>\n",
       "    </tr>\n",
       "  </tbody>\n",
       "</table>\n",
       "</div>"
      ],
      "text/plain": [
       "   Parch  Survived\n",
       "3      3  0.600000\n",
       "1      1  0.550847\n",
       "2      2  0.500000\n",
       "0      0  0.343658\n",
       "5      5  0.200000\n",
       "4      4  0.000000\n",
       "6      6  0.000000"
      ]
     },
     "execution_count": 19,
     "metadata": {},
     "output_type": "execute_result"
    }
   ],
   "source": [
    "# Correleation of \"Parch\" with \"Survived\"\n",
    "df_train[[\"Parch\", \"Survived\"]].groupby(['Parch'], as_index=False).mean().sort_values(by='Survived', ascending=False)"
   ]
  },
  {
   "cell_type": "markdown",
   "id": "b683e8b3",
   "metadata": {
    "papermill": {
     "duration": 0.0141,
     "end_time": "2022-08-18T09:59:27.805424",
     "exception": false,
     "start_time": "2022-08-18T09:59:27.791324",
     "status": "completed"
    },
    "tags": []
   },
   "source": [
    "# Data preprocessing\n",
    "\n",
    "In this version of the Notebook we build two preprocessing pipelines, one for numerical features and one for categorical, which are then joined together:"
   ]
  },
  {
   "cell_type": "code",
   "execution_count": 20,
   "id": "9394d12e",
   "metadata": {
    "execution": {
     "iopub.execute_input": "2022-08-18T09:59:27.835173Z",
     "iopub.status.busy": "2022-08-18T09:59:27.834715Z",
     "iopub.status.idle": "2022-08-18T09:59:27.854115Z",
     "shell.execute_reply": "2022-08-18T09:59:27.852501Z"
    },
    "papermill": {
     "duration": 0.037802,
     "end_time": "2022-08-18T09:59:27.857410",
     "exception": false,
     "start_time": "2022-08-18T09:59:27.819608",
     "status": "completed"
    },
    "tags": []
   },
   "outputs": [],
   "source": [
    "from sklearn.pipeline import Pipeline\n",
    "from sklearn.impute import SimpleImputer\n",
    "from sklearn.preprocessing import StandardScaler\n",
    "\n",
    "num_pipeline = Pipeline([\n",
    "        (\"imputer\", SimpleImputer(strategy=\"median\")),\n",
    "        (\"scaler\", StandardScaler())\n",
    "    ])"
   ]
  },
  {
   "cell_type": "code",
   "execution_count": 21,
   "id": "a17ed222",
   "metadata": {
    "execution": {
     "iopub.execute_input": "2022-08-18T09:59:27.889769Z",
     "iopub.status.busy": "2022-08-18T09:59:27.889341Z",
     "iopub.status.idle": "2022-08-18T09:59:27.896661Z",
     "shell.execute_reply": "2022-08-18T09:59:27.894745Z"
    },
    "papermill": {
     "duration": 0.027285,
     "end_time": "2022-08-18T09:59:27.899917",
     "exception": false,
     "start_time": "2022-08-18T09:59:27.872632",
     "status": "completed"
    },
    "tags": []
   },
   "outputs": [],
   "source": [
    "from sklearn.preprocessing import OneHotEncoder\n",
    "cat_pipeline = Pipeline([\n",
    "        (\"imputer\", SimpleImputer(strategy=\"most_frequent\")),\n",
    "        (\"cat_encoder\", OneHotEncoder(sparse=False)),\n",
    "    ])"
   ]
  },
  {
   "cell_type": "code",
   "execution_count": 22,
   "id": "56747610",
   "metadata": {
    "execution": {
     "iopub.execute_input": "2022-08-18T09:59:27.929604Z",
     "iopub.status.busy": "2022-08-18T09:59:27.928921Z",
     "iopub.status.idle": "2022-08-18T09:59:27.942521Z",
     "shell.execute_reply": "2022-08-18T09:59:27.941530Z"
    },
    "papermill": {
     "duration": 0.031722,
     "end_time": "2022-08-18T09:59:27.945228",
     "exception": false,
     "start_time": "2022-08-18T09:59:27.913506",
     "status": "completed"
    },
    "tags": []
   },
   "outputs": [],
   "source": [
    "from sklearn.compose import ColumnTransformer\n",
    "\n",
    "num_attribs = [\"Age\", \"SibSp\", \"Parch\", \"Fare\"]\n",
    "cat_attribs = [\"Pclass\", \"Sex\", \"Embarked\"]\n",
    "\n",
    "preprocess_pipeline = ColumnTransformer([\n",
    "        (\"num\", num_pipeline, num_attribs),\n",
    "        (\"cat\", cat_pipeline, cat_attribs),\n",
    "    ])"
   ]
  },
  {
   "cell_type": "markdown",
   "id": "aa0b68cf",
   "metadata": {
    "papermill": {
     "duration": 0.014335,
     "end_time": "2022-08-18T09:59:27.974437",
     "exception": false,
     "start_time": "2022-08-18T09:59:27.960102",
     "status": "completed"
    },
    "tags": []
   },
   "source": [
    "# Modeling\n",
    "\n",
    "Now that we have a preprocessing pipeline that takes the raw data and outputs numerical input features, we can feed to a Machine Learning model. We're using a cross-validation strategy for model validation."
   ]
  },
  {
   "cell_type": "code",
   "execution_count": 23,
   "id": "c4b4f786",
   "metadata": {
    "execution": {
     "iopub.execute_input": "2022-08-18T09:59:28.006773Z",
     "iopub.status.busy": "2022-08-18T09:59:28.006352Z",
     "iopub.status.idle": "2022-08-18T09:59:28.037336Z",
     "shell.execute_reply": "2022-08-18T09:59:28.035947Z"
    },
    "papermill": {
     "duration": 0.049791,
     "end_time": "2022-08-18T09:59:28.039655",
     "exception": false,
     "start_time": "2022-08-18T09:59:27.989864",
     "status": "completed"
    },
    "tags": []
   },
   "outputs": [
    {
     "data": {
      "text/plain": [
       "array([[-0.56573646,  0.43279337, -0.47367361, ...,  0.        ,\n",
       "         0.        ,  1.        ],\n",
       "       [ 0.66386103,  0.43279337, -0.47367361, ...,  1.        ,\n",
       "         0.        ,  0.        ],\n",
       "       [-0.25833709, -0.4745452 , -0.47367361, ...,  0.        ,\n",
       "         0.        ,  1.        ],\n",
       "       ...,\n",
       "       [-0.1046374 ,  0.43279337,  2.00893337, ...,  0.        ,\n",
       "         0.        ,  1.        ],\n",
       "       [-0.25833709, -0.4745452 , -0.47367361, ...,  1.        ,\n",
       "         0.        ,  0.        ],\n",
       "       [ 0.20276197, -0.4745452 , -0.47367361, ...,  0.        ,\n",
       "         1.        ,  0.        ]])"
      ]
     },
     "execution_count": 23,
     "metadata": {},
     "output_type": "execute_result"
    }
   ],
   "source": [
    "X_train = preprocess_pipeline.fit_transform(\n",
    "    df_train[num_attribs + cat_attribs])\n",
    "X_train"
   ]
  },
  {
   "cell_type": "code",
   "execution_count": 24,
   "id": "4a4114f1",
   "metadata": {
    "execution": {
     "iopub.execute_input": "2022-08-18T09:59:28.070557Z",
     "iopub.status.busy": "2022-08-18T09:59:28.070043Z",
     "iopub.status.idle": "2022-08-18T09:59:28.075827Z",
     "shell.execute_reply": "2022-08-18T09:59:28.074607Z"
    },
    "papermill": {
     "duration": 0.025064,
     "end_time": "2022-08-18T09:59:28.078317",
     "exception": false,
     "start_time": "2022-08-18T09:59:28.053253",
     "status": "completed"
    },
    "tags": []
   },
   "outputs": [],
   "source": [
    "y_train = df_train[\"Survived\"]"
   ]
  },
  {
   "cell_type": "markdown",
   "id": "5c8a6746",
   "metadata": {
    "papermill": {
     "duration": 0.015857,
     "end_time": "2022-08-18T09:59:28.107980",
     "exception": false,
     "start_time": "2022-08-18T09:59:28.092123",
     "status": "completed"
    },
    "tags": []
   },
   "source": [
    "We are now ready to train a classifier. Let's start with a RandomForestClassifier:"
   ]
  },
  {
   "cell_type": "code",
   "execution_count": 25,
   "id": "b1efab23",
   "metadata": {
    "execution": {
     "iopub.execute_input": "2022-08-18T09:59:28.139044Z",
     "iopub.status.busy": "2022-08-18T09:59:28.138568Z",
     "iopub.status.idle": "2022-08-18T09:59:28.378098Z",
     "shell.execute_reply": "2022-08-18T09:59:28.376916Z"
    },
    "papermill": {
     "duration": 0.258709,
     "end_time": "2022-08-18T09:59:28.381122",
     "exception": false,
     "start_time": "2022-08-18T09:59:28.122413",
     "status": "completed"
    },
    "tags": []
   },
   "outputs": [
    {
     "data": {
      "text/plain": [
       "RandomForestClassifier(random_state=42)"
      ]
     },
     "execution_count": 25,
     "metadata": {},
     "output_type": "execute_result"
    }
   ],
   "source": [
    "from sklearn.ensemble import RandomForestClassifier\n",
    "\n",
    "forest_clf = RandomForestClassifier(n_estimators=100, random_state=42)\n",
    "forest_clf.fit(X_train, y_train)"
   ]
  },
  {
   "cell_type": "code",
   "execution_count": 26,
   "id": "bda43328",
   "metadata": {
    "execution": {
     "iopub.execute_input": "2022-08-18T09:59:28.414079Z",
     "iopub.status.busy": "2022-08-18T09:59:28.412219Z",
     "iopub.status.idle": "2022-08-18T09:59:28.451525Z",
     "shell.execute_reply": "2022-08-18T09:59:28.450205Z"
    },
    "papermill": {
     "duration": 0.059062,
     "end_time": "2022-08-18T09:59:28.454539",
     "exception": false,
     "start_time": "2022-08-18T09:59:28.395477",
     "status": "completed"
    },
    "tags": []
   },
   "outputs": [],
   "source": [
    "X_test = preprocess_pipeline.transform(df_test[num_attribs + cat_attribs])\n",
    "y_pred = forest_clf.predict(X_test).astype(int)"
   ]
  },
  {
   "cell_type": "code",
   "execution_count": 27,
   "id": "ab49d137",
   "metadata": {
    "execution": {
     "iopub.execute_input": "2022-08-18T09:59:28.487396Z",
     "iopub.status.busy": "2022-08-18T09:59:28.485916Z",
     "iopub.status.idle": "2022-08-18T09:59:30.822809Z",
     "shell.execute_reply": "2022-08-18T09:59:30.821316Z"
    },
    "papermill": {
     "duration": 2.35755,
     "end_time": "2022-08-18T09:59:30.826413",
     "exception": false,
     "start_time": "2022-08-18T09:59:28.468863",
     "status": "completed"
    },
    "tags": []
   },
   "outputs": [
    {
     "data": {
      "text/plain": [
       "0.8092759051186016"
      ]
     },
     "execution_count": 27,
     "metadata": {},
     "output_type": "execute_result"
    }
   ],
   "source": [
    "# Cross validation score\n",
    "from sklearn.model_selection import cross_val_score\n",
    "\n",
    "forest_scores = cross_val_score(forest_clf, X_train, y_train, cv=10)\n",
    "forest_scores.mean()"
   ]
  },
  {
   "cell_type": "markdown",
   "id": "80dec38b",
   "metadata": {
    "papermill": {
     "duration": 0.014641,
     "end_time": "2022-08-18T09:59:30.859353",
     "exception": false,
     "start_time": "2022-08-18T09:59:30.844712",
     "status": "completed"
    },
    "tags": []
   },
   "source": [
    "# Submission"
   ]
  },
  {
   "cell_type": "code",
   "execution_count": 28,
   "id": "2225ceba",
   "metadata": {
    "execution": {
     "iopub.execute_input": "2022-08-18T09:59:30.894317Z",
     "iopub.status.busy": "2022-08-18T09:59:30.892991Z",
     "iopub.status.idle": "2022-08-18T09:59:30.910201Z",
     "shell.execute_reply": "2022-08-18T09:59:30.908480Z"
    },
    "papermill": {
     "duration": 0.039683,
     "end_time": "2022-08-18T09:59:30.913785",
     "exception": false,
     "start_time": "2022-08-18T09:59:30.874102",
     "status": "completed"
    },
    "tags": []
   },
   "outputs": [
    {
     "data": {
      "text/plain": [
       "PassengerId    int64\n",
       "Survived       int64\n",
       "dtype: object"
      ]
     },
     "execution_count": 28,
     "metadata": {},
     "output_type": "execute_result"
    }
   ],
   "source": [
    "passenger_id = df_full[891:].PassengerId\n",
    "test = pd.DataFrame( { 'PassengerId': passenger_id , 'Survived': y_pred } )\n",
    "test.Survived.astype('int')\n",
    "test.dtypes"
   ]
  },
  {
   "cell_type": "code",
   "execution_count": 29,
   "id": "dcce9e3e",
   "metadata": {
    "execution": {
     "iopub.execute_input": "2022-08-18T09:59:30.959352Z",
     "iopub.status.busy": "2022-08-18T09:59:30.958190Z",
     "iopub.status.idle": "2022-08-18T09:59:30.971313Z",
     "shell.execute_reply": "2022-08-18T09:59:30.968733Z"
    },
    "papermill": {
     "duration": 0.040382,
     "end_time": "2022-08-18T09:59:30.975588",
     "exception": false,
     "start_time": "2022-08-18T09:59:30.935206",
     "status": "completed"
    },
    "tags": []
   },
   "outputs": [
    {
     "name": "stdout",
     "output_type": "stream",
     "text": [
      "Your submission was successfully saved!\n"
     ]
    }
   ],
   "source": [
    "test.to_csv( 'titanic_forest_clf.csv' , index = False )\n",
    "print(\"Your submission was successfully saved!\")"
   ]
  }
 ],
 "metadata": {
  "kernelspec": {
   "display_name": "Python 3",
   "language": "python",
   "name": "python3"
  },
  "language_info": {
   "codemirror_mode": {
    "name": "ipython",
    "version": 3
   },
   "file_extension": ".py",
   "mimetype": "text/x-python",
   "name": "python",
   "nbconvert_exporter": "python",
   "pygments_lexer": "ipython3",
   "version": "3.7.12"
  },
  "papermill": {
   "default_parameters": {},
   "duration": 19.320947,
   "end_time": "2022-08-18T09:59:32.023572",
   "environment_variables": {},
   "exception": null,
   "input_path": "__notebook__.ipynb",
   "output_path": "__notebook__.ipynb",
   "parameters": {},
   "start_time": "2022-08-18T09:59:12.702625",
   "version": "2.3.4"
  }
 },
 "nbformat": 4,
 "nbformat_minor": 5
}
