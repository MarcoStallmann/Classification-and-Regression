{
 "cells": [
  {
   "cell_type": "code",
   "execution_count": 1,
   "id": "726f02ef",
   "metadata": {
    "_cell_guid": "b1076dfc-b9ad-4769-8c92-a6c4dae69d19",
    "_uuid": "8f2839f25d086af736a60e9eeb907d3b93b6e0e5",
    "execution": {
     "iopub.execute_input": "2022-08-18T10:15:37.388588Z",
     "iopub.status.busy": "2022-08-18T10:15:37.388036Z",
     "iopub.status.idle": "2022-08-18T10:15:38.771492Z",
     "shell.execute_reply": "2022-08-18T10:15:38.770664Z"
    },
    "papermill": {
     "duration": 1.395758,
     "end_time": "2022-08-18T10:15:38.773652",
     "exception": false,
     "start_time": "2022-08-18T10:15:37.377894",
     "status": "completed"
    },
    "tags": []
   },
   "outputs": [],
   "source": [
    "import pandas as pd\n",
    "import numpy as np\n",
    "import random as rnd\n",
    "\n",
    "import seaborn as sns\n",
    "import matplotlib.pyplot as plt\n",
    "%matplotlib inline\n",
    "\n",
    "from sklearn.linear_model import LogisticRegression\n",
    "from sklearn.svm import SVC, LinearSVC\n",
    "from sklearn.ensemble import RandomForestClassifier\n",
    "from sklearn.neighbors import KNeighborsClassifier\n",
    "from sklearn.naive_bayes import GaussianNB\n",
    "from sklearn.linear_model import Perceptron\n",
    "from sklearn.linear_model import SGDClassifier\n",
    "from sklearn.tree import DecisionTreeClassifier\n",
    "\n",
    "import os"
   ]
  },
  {
   "cell_type": "markdown",
   "id": "bf266569",
   "metadata": {
    "papermill": {
     "duration": 0.007376,
     "end_time": "2022-08-18T10:15:38.788929",
     "exception": false,
     "start_time": "2022-08-18T10:15:38.781553",
     "status": "completed"
    },
    "tags": []
   },
   "source": [
    "Reference Notebooks:\n",
    "1. [Titanic Data Science Solutions](https://www.kaggle.com/code/startupsci/titanic-data-science-solutions) by [Manav Sehgal](https://www.kaggle.com/startupsci)\n",
    "2. [Titanic Project Example](https://www.kaggle.com/code/kenjee/titanic-project-example/notebook) by [KenJee](https://www.kaggle.com/kenjee)\n",
    "3. [A Guide to Handling Missing values in Python](https://www.kaggle.com/code/parulpandey/a-guide-to-handling-missing-values-in-python) by [Parul Pandey](https://www.kaggle.com/parulpandey). Notebook referenced in Kaggle Book (Chapter on \"Modeling for Tabular Competitions\").\n",
    "4. [Titanic: Keras + KerasTuner best practices](https://www.kaggle.com/code/fchollet/titanic-keras-kerastuner-best-practices/notebook) by [fchollet](https://www.kaggle.com/fchollet). Notebook referenced in Kaggle Book (Chapter on \"Hyperparameter optimization\").\n",
    "5. [Titanic Tutorial](https://www.kaggle.com/code/alexisbcook/titanic-tutorial/notebook) by [Alexis Cook](https://www.kaggle.com/alexisbcook)\n",
    "6. [An Interactive Data Science Tutorial](https://www.kaggle.com/code/helgejo/an-interactive-data-science-tutorial) by [Helgejo](https://www.kaggle.com/code/helgejo/an-interactive-data-science-tutorial)\n",
    "7. [Hands-on Machine Learning: Classification](https://github.com/ageron/handson-ml2/blob/master/03_classification.ipynb) by [Aurélien Geron](https://github.com/ageron)"
   ]
  },
  {
   "cell_type": "markdown",
   "id": "fde2d746",
   "metadata": {
    "papermill": {
     "duration": 0.007896,
     "end_time": "2022-08-18T10:15:38.804807",
     "exception": false,
     "start_time": "2022-08-18T10:15:38.796911",
     "status": "completed"
    },
    "tags": []
   },
   "source": [
    "# Problem definition and understanding\n",
    "\n",
    "The [Titanic - Machine Learning from Disaster](https://www.kaggle.com/c/titanic) problem is described as follows: We shall build a predictive machine learning model that answers the question: \"what sorts of people were more likely to survive?\", using passenger data like name, age, gender, socio-economic class, etc. We are working with 1309 observations of 12 variables. The data has been split into two groups: a training set (train.csv) and a test set (test.csv). For the training set the outcome (\"ground truth\") for each passenger is provided. It is your job to predict these outcomes for the test set.\n",
    "\n",
    "## Variable Description\n",
    "\n",
    "- PassengerId: a unique identifier for each passengerPassengerId: a unique identifier for each passenger\n",
    "- Survived: Survived (1) or died (0)\n",
    "- Pclass: Passenger's class\n",
    "- Name: Passenger's name\n",
    "- Sex: Passenger's sex\n",
    "- Age: Passenger's age\n",
    "- SibSp: Number of siblings/spouses aboard\n",
    "- Parch: Number of parents/children aboard\n",
    "- Ticket: Ticket number\n",
    "- Fare: Fare\n",
    "- Cabin: Cabin\n",
    "- Embarked: Port of embarkation\n",
    "\n",
    "# Data analysis"
   ]
  },
  {
   "cell_type": "code",
   "execution_count": 2,
   "id": "34c898e4",
   "metadata": {
    "execution": {
     "iopub.execute_input": "2022-08-18T10:15:38.821835Z",
     "iopub.status.busy": "2022-08-18T10:15:38.821372Z",
     "iopub.status.idle": "2022-08-18T10:15:38.849162Z",
     "shell.execute_reply": "2022-08-18T10:15:38.847943Z"
    },
    "papermill": {
     "duration": 0.038777,
     "end_time": "2022-08-18T10:15:38.851377",
     "exception": false,
     "start_time": "2022-08-18T10:15:38.812600",
     "status": "completed"
    },
    "tags": []
   },
   "outputs": [],
   "source": [
    "df_train = pd.read_csv('../input/titanic/train.csv')\n",
    "df_test = pd.read_csv('../input/titanic/test.csv')"
   ]
  },
  {
   "cell_type": "code",
   "execution_count": 3,
   "id": "d5d82ac4",
   "metadata": {
    "execution": {
     "iopub.execute_input": "2022-08-18T10:15:38.869647Z",
     "iopub.status.busy": "2022-08-18T10:15:38.868584Z",
     "iopub.status.idle": "2022-08-18T10:15:38.875652Z",
     "shell.execute_reply": "2022-08-18T10:15:38.875115Z"
    },
    "papermill": {
     "duration": 0.017457,
     "end_time": "2022-08-18T10:15:38.877293",
     "exception": false,
     "start_time": "2022-08-18T10:15:38.859836",
     "status": "completed"
    },
    "tags": []
   },
   "outputs": [
    {
     "data": {
      "text/plain": [
       "Index(['PassengerId', 'Survived', 'Pclass', 'Name', 'Sex', 'Age', 'SibSp',\n",
       "       'Parch', 'Ticket', 'Fare', 'Cabin', 'Embarked'],\n",
       "      dtype='object')"
      ]
     },
     "execution_count": 3,
     "metadata": {},
     "output_type": "execute_result"
    }
   ],
   "source": [
    "df_train.columns"
   ]
  },
  {
   "cell_type": "code",
   "execution_count": 4,
   "id": "e1eef0eb",
   "metadata": {
    "execution": {
     "iopub.execute_input": "2022-08-18T10:15:38.894545Z",
     "iopub.status.busy": "2022-08-18T10:15:38.893533Z",
     "iopub.status.idle": "2022-08-18T10:15:38.911483Z",
     "shell.execute_reply": "2022-08-18T10:15:38.910935Z"
    },
    "papermill": {
     "duration": 0.027939,
     "end_time": "2022-08-18T10:15:38.912945",
     "exception": false,
     "start_time": "2022-08-18T10:15:38.885006",
     "status": "completed"
    },
    "tags": []
   },
   "outputs": [
    {
     "data": {
      "text/html": [
       "<div>\n",
       "<style scoped>\n",
       "    .dataframe tbody tr th:only-of-type {\n",
       "        vertical-align: middle;\n",
       "    }\n",
       "\n",
       "    .dataframe tbody tr th {\n",
       "        vertical-align: top;\n",
       "    }\n",
       "\n",
       "    .dataframe thead th {\n",
       "        text-align: right;\n",
       "    }\n",
       "</style>\n",
       "<table border=\"1\" class=\"dataframe\">\n",
       "  <thead>\n",
       "    <tr style=\"text-align: right;\">\n",
       "      <th></th>\n",
       "      <th>PassengerId</th>\n",
       "      <th>Survived</th>\n",
       "      <th>Pclass</th>\n",
       "      <th>Name</th>\n",
       "      <th>Sex</th>\n",
       "      <th>Age</th>\n",
       "      <th>SibSp</th>\n",
       "      <th>Parch</th>\n",
       "      <th>Ticket</th>\n",
       "      <th>Fare</th>\n",
       "      <th>Cabin</th>\n",
       "      <th>Embarked</th>\n",
       "    </tr>\n",
       "  </thead>\n",
       "  <tbody>\n",
       "    <tr>\n",
       "      <th>0</th>\n",
       "      <td>1</td>\n",
       "      <td>0</td>\n",
       "      <td>3</td>\n",
       "      <td>Braund, Mr. Owen Harris</td>\n",
       "      <td>male</td>\n",
       "      <td>22.0</td>\n",
       "      <td>1</td>\n",
       "      <td>0</td>\n",
       "      <td>A/5 21171</td>\n",
       "      <td>7.2500</td>\n",
       "      <td>NaN</td>\n",
       "      <td>S</td>\n",
       "    </tr>\n",
       "    <tr>\n",
       "      <th>1</th>\n",
       "      <td>2</td>\n",
       "      <td>1</td>\n",
       "      <td>1</td>\n",
       "      <td>Cumings, Mrs. John Bradley (Florence Briggs Th...</td>\n",
       "      <td>female</td>\n",
       "      <td>38.0</td>\n",
       "      <td>1</td>\n",
       "      <td>0</td>\n",
       "      <td>PC 17599</td>\n",
       "      <td>71.2833</td>\n",
       "      <td>C85</td>\n",
       "      <td>C</td>\n",
       "    </tr>\n",
       "    <tr>\n",
       "      <th>2</th>\n",
       "      <td>3</td>\n",
       "      <td>1</td>\n",
       "      <td>3</td>\n",
       "      <td>Heikkinen, Miss. Laina</td>\n",
       "      <td>female</td>\n",
       "      <td>26.0</td>\n",
       "      <td>0</td>\n",
       "      <td>0</td>\n",
       "      <td>STON/O2. 3101282</td>\n",
       "      <td>7.9250</td>\n",
       "      <td>NaN</td>\n",
       "      <td>S</td>\n",
       "    </tr>\n",
       "    <tr>\n",
       "      <th>3</th>\n",
       "      <td>4</td>\n",
       "      <td>1</td>\n",
       "      <td>1</td>\n",
       "      <td>Futrelle, Mrs. Jacques Heath (Lily May Peel)</td>\n",
       "      <td>female</td>\n",
       "      <td>35.0</td>\n",
       "      <td>1</td>\n",
       "      <td>0</td>\n",
       "      <td>113803</td>\n",
       "      <td>53.1000</td>\n",
       "      <td>C123</td>\n",
       "      <td>S</td>\n",
       "    </tr>\n",
       "    <tr>\n",
       "      <th>4</th>\n",
       "      <td>5</td>\n",
       "      <td>0</td>\n",
       "      <td>3</td>\n",
       "      <td>Allen, Mr. William Henry</td>\n",
       "      <td>male</td>\n",
       "      <td>35.0</td>\n",
       "      <td>0</td>\n",
       "      <td>0</td>\n",
       "      <td>373450</td>\n",
       "      <td>8.0500</td>\n",
       "      <td>NaN</td>\n",
       "      <td>S</td>\n",
       "    </tr>\n",
       "  </tbody>\n",
       "</table>\n",
       "</div>"
      ],
      "text/plain": [
       "   PassengerId  Survived  Pclass  \\\n",
       "0            1         0       3   \n",
       "1            2         1       1   \n",
       "2            3         1       3   \n",
       "3            4         1       1   \n",
       "4            5         0       3   \n",
       "\n",
       "                                                Name     Sex   Age  SibSp  \\\n",
       "0                            Braund, Mr. Owen Harris    male  22.0      1   \n",
       "1  Cumings, Mrs. John Bradley (Florence Briggs Th...  female  38.0      1   \n",
       "2                             Heikkinen, Miss. Laina  female  26.0      0   \n",
       "3       Futrelle, Mrs. Jacques Heath (Lily May Peel)  female  35.0      1   \n",
       "4                           Allen, Mr. William Henry    male  35.0      0   \n",
       "\n",
       "   Parch            Ticket     Fare Cabin Embarked  \n",
       "0      0         A/5 21171   7.2500   NaN        S  \n",
       "1      0          PC 17599  71.2833   C85        C  \n",
       "2      0  STON/O2. 3101282   7.9250   NaN        S  \n",
       "3      0            113803  53.1000  C123        S  \n",
       "4      0            373450   8.0500   NaN        S  "
      ]
     },
     "execution_count": 4,
     "metadata": {},
     "output_type": "execute_result"
    }
   ],
   "source": [
    "df_train.head()"
   ]
  },
  {
   "cell_type": "code",
   "execution_count": 5,
   "id": "dbb3f853",
   "metadata": {
    "execution": {
     "iopub.execute_input": "2022-08-18T10:15:38.931084Z",
     "iopub.status.busy": "2022-08-18T10:15:38.930008Z",
     "iopub.status.idle": "2022-08-18T10:15:38.942127Z",
     "shell.execute_reply": "2022-08-18T10:15:38.941470Z"
    },
    "papermill": {
     "duration": 0.022804,
     "end_time": "2022-08-18T10:15:38.943674",
     "exception": false,
     "start_time": "2022-08-18T10:15:38.920870",
     "status": "completed"
    },
    "tags": []
   },
   "outputs": [
    {
     "data": {
      "text/plain": [
       "0    549\n",
       "1    342\n",
       "Name: Survived, dtype: int64"
      ]
     },
     "execution_count": 5,
     "metadata": {},
     "output_type": "execute_result"
    }
   ],
   "source": [
    "# Examine target column\n",
    "df_train['Survived'].value_counts()"
   ]
  },
  {
   "cell_type": "markdown",
   "id": "111bed03",
   "metadata": {
    "papermill": {
     "duration": 0.00756,
     "end_time": "2022-08-18T10:15:38.959244",
     "exception": false,
     "start_time": "2022-08-18T10:15:38.951684",
     "status": "completed"
    },
    "tags": []
   },
   "source": [
    "The **target** is categorical / binary: `Survived`. Around 38 % of the samples in the training set have survived = 1, which is a little more than the actual survival rate of 32 %. \n",
    "\n",
    "The 891 samples of the training set make up 40 % of the actual number of passengers on the Titanic, which is 2224. In the info-table below we can already see what could be numerical and categorial features. \n",
    "\n",
    "The **numerical** features are:\n",
    "* Continous (float64): `Age` (in years), `Fare` (= passenger fare)\n",
    "* Discrete (int64): `SibSp` (= number of siblings / spouses aboard the Titanic), `Parch` (= number of PARents / CHildren aboard the Titanic)\n",
    "\n",
    "And as **categorical** features:\n",
    "* Categorical: `Sex` and `Embarked` (Port of Embarkation). \n",
    "* Ordinal: `Pclass`."
   ]
  },
  {
   "cell_type": "markdown",
   "id": "8f86a597",
   "metadata": {
    "papermill": {
     "duration": 0.007441,
     "end_time": "2022-08-18T10:15:38.974278",
     "exception": false,
     "start_time": "2022-08-18T10:15:38.966837",
     "status": "completed"
    },
    "tags": []
   },
   "source": [
    "## Missing values\n",
    "\n",
    "We want to look for missing values and, most importantly, missing value patterns correlated with the target."
   ]
  },
  {
   "cell_type": "code",
   "execution_count": 6,
   "id": "40d4ee00",
   "metadata": {
    "execution": {
     "iopub.execute_input": "2022-08-18T10:15:38.991789Z",
     "iopub.status.busy": "2022-08-18T10:15:38.991341Z",
     "iopub.status.idle": "2022-08-18T10:15:39.007993Z",
     "shell.execute_reply": "2022-08-18T10:15:39.007109Z"
    },
    "papermill": {
     "duration": 0.028336,
     "end_time": "2022-08-18T10:15:39.010663",
     "exception": false,
     "start_time": "2022-08-18T10:15:38.982327",
     "status": "completed"
    },
    "tags": []
   },
   "outputs": [
    {
     "name": "stdout",
     "output_type": "stream",
     "text": [
      "<class 'pandas.core.frame.DataFrame'>\n",
      "RangeIndex: 891 entries, 0 to 890\n",
      "Data columns (total 12 columns):\n",
      " #   Column       Non-Null Count  Dtype  \n",
      "---  ------       --------------  -----  \n",
      " 0   PassengerId  891 non-null    int64  \n",
      " 1   Survived     891 non-null    int64  \n",
      " 2   Pclass       891 non-null    int64  \n",
      " 3   Name         891 non-null    object \n",
      " 4   Sex          891 non-null    object \n",
      " 5   Age          714 non-null    float64\n",
      " 6   SibSp        891 non-null    int64  \n",
      " 7   Parch        891 non-null    int64  \n",
      " 8   Ticket       891 non-null    object \n",
      " 9   Fare         891 non-null    float64\n",
      " 10  Cabin        204 non-null    object \n",
      " 11  Embarked     889 non-null    object \n",
      "dtypes: float64(2), int64(5), object(5)\n",
      "memory usage: 83.7+ KB\n"
     ]
    }
   ],
   "source": [
    "df_train.info()"
   ]
  },
  {
   "cell_type": "markdown",
   "id": "e3a6544b",
   "metadata": {
    "papermill": {
     "duration": 0.008783,
     "end_time": "2022-08-18T10:15:39.028266",
     "exception": false,
     "start_time": "2022-08-18T10:15:39.019483",
     "status": "completed"
    },
    "tags": []
   },
   "source": [
    "## Numeric variables distribution\n",
    "\n",
    "We want to look for skewed numeric variables and their possible transformations. The **numerical** features are:\n",
    "* Continous (float64): `Age` (in years), `Fare` (= passenger fare)\n",
    "* Discrete (int64): `PassengerId`, `SibSp` (= number of siblings / spouses aboard the Titanic), `Parch` (= number of PARents / CHildren aboard the Titanic)"
   ]
  },
  {
   "cell_type": "code",
   "execution_count": 7,
   "id": "93716ed1",
   "metadata": {
    "execution": {
     "iopub.execute_input": "2022-08-18T10:15:39.050644Z",
     "iopub.status.busy": "2022-08-18T10:15:39.050266Z",
     "iopub.status.idle": "2022-08-18T10:15:39.060511Z",
     "shell.execute_reply": "2022-08-18T10:15:39.059595Z"
    },
    "papermill": {
     "duration": 0.023677,
     "end_time": "2022-08-18T10:15:39.062375",
     "exception": false,
     "start_time": "2022-08-18T10:15:39.038698",
     "status": "completed"
    },
    "tags": []
   },
   "outputs": [],
   "source": [
    "# look at numeric and categorical values separately \n",
    "df_num = df_train[['Age','SibSp','Parch','Fare']]"
   ]
  },
  {
   "cell_type": "code",
   "execution_count": 8,
   "id": "f133b397",
   "metadata": {
    "execution": {
     "iopub.execute_input": "2022-08-18T10:15:39.082688Z",
     "iopub.status.busy": "2022-08-18T10:15:39.081646Z",
     "iopub.status.idle": "2022-08-18T10:15:39.102845Z",
     "shell.execute_reply": "2022-08-18T10:15:39.101560Z"
    },
    "papermill": {
     "duration": 0.032911,
     "end_time": "2022-08-18T10:15:39.104778",
     "exception": false,
     "start_time": "2022-08-18T10:15:39.071867",
     "status": "completed"
    },
    "scrolled": true,
    "tags": []
   },
   "outputs": [
    {
     "data": {
      "text/html": [
       "<div>\n",
       "<style scoped>\n",
       "    .dataframe tbody tr th:only-of-type {\n",
       "        vertical-align: middle;\n",
       "    }\n",
       "\n",
       "    .dataframe tbody tr th {\n",
       "        vertical-align: top;\n",
       "    }\n",
       "\n",
       "    .dataframe thead th {\n",
       "        text-align: right;\n",
       "    }\n",
       "</style>\n",
       "<table border=\"1\" class=\"dataframe\">\n",
       "  <thead>\n",
       "    <tr style=\"text-align: right;\">\n",
       "      <th></th>\n",
       "      <th>Age</th>\n",
       "      <th>SibSp</th>\n",
       "      <th>Parch</th>\n",
       "      <th>Fare</th>\n",
       "    </tr>\n",
       "  </thead>\n",
       "  <tbody>\n",
       "    <tr>\n",
       "      <th>count</th>\n",
       "      <td>714.000000</td>\n",
       "      <td>891.000000</td>\n",
       "      <td>891.000000</td>\n",
       "      <td>891.000000</td>\n",
       "    </tr>\n",
       "    <tr>\n",
       "      <th>mean</th>\n",
       "      <td>29.699118</td>\n",
       "      <td>0.523008</td>\n",
       "      <td>0.381594</td>\n",
       "      <td>32.204208</td>\n",
       "    </tr>\n",
       "    <tr>\n",
       "      <th>std</th>\n",
       "      <td>14.526497</td>\n",
       "      <td>1.102743</td>\n",
       "      <td>0.806057</td>\n",
       "      <td>49.693429</td>\n",
       "    </tr>\n",
       "    <tr>\n",
       "      <th>min</th>\n",
       "      <td>0.420000</td>\n",
       "      <td>0.000000</td>\n",
       "      <td>0.000000</td>\n",
       "      <td>0.000000</td>\n",
       "    </tr>\n",
       "    <tr>\n",
       "      <th>25%</th>\n",
       "      <td>20.125000</td>\n",
       "      <td>0.000000</td>\n",
       "      <td>0.000000</td>\n",
       "      <td>7.910400</td>\n",
       "    </tr>\n",
       "    <tr>\n",
       "      <th>50%</th>\n",
       "      <td>28.000000</td>\n",
       "      <td>0.000000</td>\n",
       "      <td>0.000000</td>\n",
       "      <td>14.454200</td>\n",
       "    </tr>\n",
       "    <tr>\n",
       "      <th>75%</th>\n",
       "      <td>38.000000</td>\n",
       "      <td>1.000000</td>\n",
       "      <td>0.000000</td>\n",
       "      <td>31.000000</td>\n",
       "    </tr>\n",
       "    <tr>\n",
       "      <th>max</th>\n",
       "      <td>80.000000</td>\n",
       "      <td>8.000000</td>\n",
       "      <td>6.000000</td>\n",
       "      <td>512.329200</td>\n",
       "    </tr>\n",
       "  </tbody>\n",
       "</table>\n",
       "</div>"
      ],
      "text/plain": [
       "              Age       SibSp       Parch        Fare\n",
       "count  714.000000  891.000000  891.000000  891.000000\n",
       "mean    29.699118    0.523008    0.381594   32.204208\n",
       "std     14.526497    1.102743    0.806057   49.693429\n",
       "min      0.420000    0.000000    0.000000    0.000000\n",
       "25%     20.125000    0.000000    0.000000    7.910400\n",
       "50%     28.000000    0.000000    0.000000   14.454200\n",
       "75%     38.000000    1.000000    0.000000   31.000000\n",
       "max     80.000000    8.000000    6.000000  512.329200"
      ]
     },
     "execution_count": 8,
     "metadata": {},
     "output_type": "execute_result"
    }
   ],
   "source": [
    "df_num.describe()"
   ]
  },
  {
   "cell_type": "code",
   "execution_count": 9,
   "id": "8851ae7a",
   "metadata": {
    "execution": {
     "iopub.execute_input": "2022-08-18T10:15:39.124031Z",
     "iopub.status.busy": "2022-08-18T10:15:39.123286Z",
     "iopub.status.idle": "2022-08-18T10:15:39.680017Z",
     "shell.execute_reply": "2022-08-18T10:15:39.678709Z"
    },
    "papermill": {
     "duration": 0.568941,
     "end_time": "2022-08-18T10:15:39.682509",
     "exception": false,
     "start_time": "2022-08-18T10:15:39.113568",
     "status": "completed"
    },
    "tags": []
   },
   "outputs": [
    {
     "data": {
      "image/png": "[encoded data removed]",
      "text/plain": [
       "<Figure size 432x288 with 1 Axes>"
      ]
     },
     "metadata": {
      "needs_background": "light"
     },
     "output_type": "display_data"
    },
    {
     "data": {
      "image/png": "[encoded data removed]",
      "text/plain": [
       "<Figure size 432x288 with 1 Axes>"
      ]
     },
     "metadata": {
      "needs_background": "light"
     },
     "output_type": "display_data"
    },
    {
     "data": {
      "image/png": "[encoded data removed]",
      "text/plain": [
       "<Figure size 432x288 with 1 Axes>"
      ]
     },
     "metadata": {
      "needs_background": "light"
     },
     "output_type": "display_data"
    },
    {
     "data": {
      "image/png": "[encoded data removed]",
      "text/plain": [
       "<Figure size 432x288 with 1 Axes>"
      ]
     },
     "metadata": {
      "needs_background": "light"
     },
     "output_type": "display_data"
    }
   ],
   "source": [
    "# plot histograms\n",
    "for i in df_num.columns:\n",
    "    plt.hist(df_num[i])\n",
    "    plt.title(i)\n",
    "    plt.show()"
   ]
  },
  {
   "cell_type": "markdown",
   "id": "48367547",
   "metadata": {
    "papermill": {
     "duration": 0.008693,
     "end_time": "2022-08-18T10:15:39.701612",
     "exception": false,
     "start_time": "2022-08-18T10:15:39.692919",
     "status": "completed"
    },
    "tags": []
   },
   "source": [
    "Observations about the numerical features:\n",
    "\n",
    "* `PassengerId` does not contribute to survival. We have already set it as an index for our DataFrame.\n",
    "* `Age` We have mostly young people between 20 and 30. Few elderly passengers (<1%) within age range 65-80! Since it has about 19% missing values, we might want to **complete the feature** (perhaps with median age). Also age bands could be relevant as a **new feature** (ordinal categorical instead of numerical).\n",
    "* `SibSp` Nearly 30% of the passengers had siblings and/or spouse aboard.\n",
    "* `Parch` Most passengers (> 75%) did not travel with parents or children. We could think of the total count of family members on board (`SibSp`+`Parch`) as a **new feature**.\n",
    "* `Fare` varies significantly with few passengers (<1%) paying as high as 512 Dollars. We may also want to create a Fare range **new feature** if it helps our analysis.\n",
    "\n",
    "Looking at the histograms, KenJee considers normalizing the relevant features. But we'll come back to that later."
   ]
  },
  {
   "cell_type": "markdown",
   "id": "e3d83be1",
   "metadata": {
    "papermill": {
     "duration": 0.008462,
     "end_time": "2022-08-18T10:15:39.719155",
     "exception": false,
     "start_time": "2022-08-18T10:15:39.710693",
     "status": "completed"
    },
    "tags": []
   },
   "source": [
    "## Categorical features distribution\n",
    "\n",
    "Further look for: Rare categories in categorical variables that can be grouped together; Potential outliers, both univariate and multivariate.\n",
    "\n",
    "And as **categorical** features:\n",
    "* Categorical: `Survived` (the target variable: 0 or 1), `Sex` and `Embarked` (Port of Embarkation). \n",
    "* Ordinal: `Pclass`.\n",
    "\n"
   ]
  },
  {
   "cell_type": "code",
   "execution_count": 10,
   "id": "a98e9cf6",
   "metadata": {
    "execution": {
     "iopub.execute_input": "2022-08-18T10:15:39.738624Z",
     "iopub.status.busy": "2022-08-18T10:15:39.738078Z",
     "iopub.status.idle": "2022-08-18T10:15:39.755611Z",
     "shell.execute_reply": "2022-08-18T10:15:39.754537Z"
    },
    "papermill": {
     "duration": 0.029182,
     "end_time": "2022-08-18T10:15:39.757200",
     "exception": false,
     "start_time": "2022-08-18T10:15:39.728018",
     "status": "completed"
    },
    "tags": []
   },
   "outputs": [
    {
     "data": {
      "text/html": [
       "<div>\n",
       "<style scoped>\n",
       "    .dataframe tbody tr th:only-of-type {\n",
       "        vertical-align: middle;\n",
       "    }\n",
       "\n",
       "    .dataframe tbody tr th {\n",
       "        vertical-align: top;\n",
       "    }\n",
       "\n",
       "    .dataframe thead th {\n",
       "        text-align: right;\n",
       "    }\n",
       "</style>\n",
       "<table border=\"1\" class=\"dataframe\">\n",
       "  <thead>\n",
       "    <tr style=\"text-align: right;\">\n",
       "      <th></th>\n",
       "      <th>Name</th>\n",
       "      <th>Sex</th>\n",
       "      <th>Ticket</th>\n",
       "      <th>Cabin</th>\n",
       "      <th>Embarked</th>\n",
       "    </tr>\n",
       "  </thead>\n",
       "  <tbody>\n",
       "    <tr>\n",
       "      <th>count</th>\n",
       "      <td>891</td>\n",
       "      <td>891</td>\n",
       "      <td>891</td>\n",
       "      <td>204</td>\n",
       "      <td>889</td>\n",
       "    </tr>\n",
       "    <tr>\n",
       "      <th>unique</th>\n",
       "      <td>891</td>\n",
       "      <td>2</td>\n",
       "      <td>681</td>\n",
       "      <td>147</td>\n",
       "      <td>3</td>\n",
       "    </tr>\n",
       "    <tr>\n",
       "      <th>top</th>\n",
       "      <td>Braund, Mr. Owen Harris</td>\n",
       "      <td>male</td>\n",
       "      <td>347082</td>\n",
       "      <td>B96 B98</td>\n",
       "      <td>S</td>\n",
       "    </tr>\n",
       "    <tr>\n",
       "      <th>freq</th>\n",
       "      <td>1</td>\n",
       "      <td>577</td>\n",
       "      <td>7</td>\n",
       "      <td>4</td>\n",
       "      <td>644</td>\n",
       "    </tr>\n",
       "  </tbody>\n",
       "</table>\n",
       "</div>"
      ],
      "text/plain": [
       "                           Name   Sex  Ticket    Cabin Embarked\n",
       "count                       891   891     891      204      889\n",
       "unique                      891     2     681      147        3\n",
       "top     Braund, Mr. Owen Harris  male  347082  B96 B98        S\n",
       "freq                          1   577       7        4      644"
      ]
     },
     "execution_count": 10,
     "metadata": {},
     "output_type": "execute_result"
    }
   ],
   "source": [
    "df_cat = df_train[['Survived','Pclass','Name','Sex','Ticket','Cabin','Embarked']]\n",
    "df_cat.describe(include=['O'])"
   ]
  },
  {
   "cell_type": "markdown",
   "id": "2a3b90ac",
   "metadata": {
    "papermill": {
     "duration": 0.009176,
     "end_time": "2022-08-18T10:15:39.775627",
     "exception": false,
     "start_time": "2022-08-18T10:15:39.766451",
     "status": "completed"
    },
    "tags": []
   },
   "source": [
    "Observations:\n",
    "* `Name` will probably not influence the survival and is also completely unique across the dataset, so can be dropped. The titles might be relevant as a **new feature**, though.\n",
    "* `Sex` variable has two possible values with 65% male (577 of 891).\n",
    "* `Ticket` may be dropped from our analysis as it contains high ratio of duplicates (22%) and there may not be a correlation between Ticket and survival. (But it could be.)\n",
    "* `Cabin` values have several dupicates across samples. Alternatively several passengers shared a cabin. Referring to Malav, it can be dropped as it is highly incomplete or contains many null values both in training and test dataset. KenJee creates categories based on the cabin letter.\n",
    "* `Embarked` takes three possible values. Most passengers have embarked from \"S\". Since it has missing values, we might want to **complete the feature**.\n"
   ]
  },
  {
   "cell_type": "markdown",
   "id": "62cf66dc",
   "metadata": {
    "papermill": {
     "duration": 0.009402,
     "end_time": "2022-08-18T10:15:39.794501",
     "exception": false,
     "start_time": "2022-08-18T10:15:39.785099",
     "status": "completed"
    },
    "tags": []
   },
   "source": [
    "## Correlations\n",
    "\n",
    "Look for: Highly correlated (or even duplicated) features. For categorical variables, focus on categories that overlap. The most predictive features for the problem."
   ]
  },
  {
   "cell_type": "code",
   "execution_count": 11,
   "id": "1cc61b90",
   "metadata": {
    "execution": {
     "iopub.execute_input": "2022-08-18T10:15:39.816079Z",
     "iopub.status.busy": "2022-08-18T10:15:39.815538Z",
     "iopub.status.idle": "2022-08-18T10:15:39.836942Z",
     "shell.execute_reply": "2022-08-18T10:15:39.835676Z"
    },
    "papermill": {
     "duration": 0.034454,
     "end_time": "2022-08-18T10:15:39.839107",
     "exception": false,
     "start_time": "2022-08-18T10:15:39.804653",
     "status": "completed"
    },
    "tags": []
   },
   "outputs": [
    {
     "data": {
      "text/html": [
       "<div>\n",
       "<style scoped>\n",
       "    .dataframe tbody tr th:only-of-type {\n",
       "        vertical-align: middle;\n",
       "    }\n",
       "\n",
       "    .dataframe tbody tr th {\n",
       "        vertical-align: top;\n",
       "    }\n",
       "\n",
       "    .dataframe thead th {\n",
       "        text-align: right;\n",
       "    }\n",
       "</style>\n",
       "<table border=\"1\" class=\"dataframe\">\n",
       "  <thead>\n",
       "    <tr style=\"text-align: right;\">\n",
       "      <th></th>\n",
       "      <th>Age</th>\n",
       "      <th>Fare</th>\n",
       "      <th>Parch</th>\n",
       "      <th>SibSp</th>\n",
       "    </tr>\n",
       "    <tr>\n",
       "      <th>Survived</th>\n",
       "      <th></th>\n",
       "      <th></th>\n",
       "      <th></th>\n",
       "      <th></th>\n",
       "    </tr>\n",
       "  </thead>\n",
       "  <tbody>\n",
       "    <tr>\n",
       "      <th>0</th>\n",
       "      <td>30.626179</td>\n",
       "      <td>22.117887</td>\n",
       "      <td>0.329690</td>\n",
       "      <td>0.553734</td>\n",
       "    </tr>\n",
       "    <tr>\n",
       "      <th>1</th>\n",
       "      <td>28.343690</td>\n",
       "      <td>48.395408</td>\n",
       "      <td>0.464912</td>\n",
       "      <td>0.473684</td>\n",
       "    </tr>\n",
       "  </tbody>\n",
       "</table>\n",
       "</div>"
      ],
      "text/plain": [
       "                Age       Fare     Parch     SibSp\n",
       "Survived                                          \n",
       "0         30.626179  22.117887  0.329690  0.553734\n",
       "1         28.343690  48.395408  0.464912  0.473684"
      ]
     },
     "execution_count": 11,
     "metadata": {},
     "output_type": "execute_result"
    }
   ],
   "source": [
    "# pivot table for numerical features\n",
    "pd.pivot_table(df_train, index = 'Survived', values = ['Age','SibSp','Parch','Fare'])"
   ]
  },
  {
   "cell_type": "markdown",
   "id": "fc8d2b85",
   "metadata": {
    "papermill": {
     "duration": 0.009057,
     "end_time": "2022-08-18T10:15:39.857963",
     "exception": false,
     "start_time": "2022-08-18T10:15:39.848906",
     "status": "completed"
    },
    "tags": []
   },
   "source": [
    "`Age`: Children were more likely to have survived. \n",
    "\n",
    "Lets have a look at our categorical variables, too. Here we use separate correlation tables for each variable:"
   ]
  },
  {
   "cell_type": "code",
   "execution_count": 12,
   "id": "1d37319f",
   "metadata": {
    "execution": {
     "iopub.execute_input": "2022-08-18T10:15:39.878787Z",
     "iopub.status.busy": "2022-08-18T10:15:39.877913Z",
     "iopub.status.idle": "2022-08-18T10:15:39.888917Z",
     "shell.execute_reply": "2022-08-18T10:15:39.888328Z"
    },
    "papermill": {
     "duration": 0.023911,
     "end_time": "2022-08-18T10:15:39.891220",
     "exception": false,
     "start_time": "2022-08-18T10:15:39.867309",
     "status": "completed"
    },
    "tags": []
   },
   "outputs": [
    {
     "data": {
      "text/html": [
       "<div>\n",
       "<style scoped>\n",
       "    .dataframe tbody tr th:only-of-type {\n",
       "        vertical-align: middle;\n",
       "    }\n",
       "\n",
       "    .dataframe tbody tr th {\n",
       "        vertical-align: top;\n",
       "    }\n",
       "\n",
       "    .dataframe thead th {\n",
       "        text-align: right;\n",
       "    }\n",
       "</style>\n",
       "<table border=\"1\" class=\"dataframe\">\n",
       "  <thead>\n",
       "    <tr style=\"text-align: right;\">\n",
       "      <th></th>\n",
       "      <th>Pclass</th>\n",
       "      <th>Survived</th>\n",
       "    </tr>\n",
       "  </thead>\n",
       "  <tbody>\n",
       "    <tr>\n",
       "      <th>0</th>\n",
       "      <td>1</td>\n",
       "      <td>0.629630</td>\n",
       "    </tr>\n",
       "    <tr>\n",
       "      <th>1</th>\n",
       "      <td>2</td>\n",
       "      <td>0.472826</td>\n",
       "    </tr>\n",
       "    <tr>\n",
       "      <th>2</th>\n",
       "      <td>3</td>\n",
       "      <td>0.242363</td>\n",
       "    </tr>\n",
       "  </tbody>\n",
       "</table>\n",
       "</div>"
      ],
      "text/plain": [
       "   Pclass  Survived\n",
       "0       1  0.629630\n",
       "1       2  0.472826\n",
       "2       3  0.242363"
      ]
     },
     "execution_count": 12,
     "metadata": {},
     "output_type": "execute_result"
    }
   ],
   "source": [
    "# Correlation of \"Pclass\" with \"Survived\"\n",
    "df_train[['Pclass', 'Survived']].groupby(['Pclass'], as_index=False).mean().sort_values(by='Survived', ascending=False)"
   ]
  },
  {
   "cell_type": "markdown",
   "id": "51551973",
   "metadata": {
    "papermill": {
     "duration": 0.009323,
     "end_time": "2022-08-18T10:15:39.910320",
     "exception": false,
     "start_time": "2022-08-18T10:15:39.900997",
     "status": "completed"
    },
    "tags": []
   },
   "source": [
    "We can see the correlation between Pclass = 1 and Survived is quite high, over 62 %. This feature should definitely be **included** in our model."
   ]
  },
  {
   "cell_type": "code",
   "execution_count": 13,
   "id": "a33590c9",
   "metadata": {
    "execution": {
     "iopub.execute_input": "2022-08-18T10:15:39.930915Z",
     "iopub.status.busy": "2022-08-18T10:15:39.930422Z",
     "iopub.status.idle": "2022-08-18T10:15:39.940988Z",
     "shell.execute_reply": "2022-08-18T10:15:39.940190Z"
    },
    "papermill": {
     "duration": 0.022954,
     "end_time": "2022-08-18T10:15:39.942697",
     "exception": false,
     "start_time": "2022-08-18T10:15:39.919743",
     "status": "completed"
    },
    "tags": []
   },
   "outputs": [
    {
     "data": {
      "text/html": [
       "<div>\n",
       "<style scoped>\n",
       "    .dataframe tbody tr th:only-of-type {\n",
       "        vertical-align: middle;\n",
       "    }\n",
       "\n",
       "    .dataframe tbody tr th {\n",
       "        vertical-align: top;\n",
       "    }\n",
       "\n",
       "    .dataframe thead th {\n",
       "        text-align: right;\n",
       "    }\n",
       "</style>\n",
       "<table border=\"1\" class=\"dataframe\">\n",
       "  <thead>\n",
       "    <tr style=\"text-align: right;\">\n",
       "      <th></th>\n",
       "      <th>Sex</th>\n",
       "      <th>Survived</th>\n",
       "    </tr>\n",
       "  </thead>\n",
       "  <tbody>\n",
       "    <tr>\n",
       "      <th>0</th>\n",
       "      <td>female</td>\n",
       "      <td>0.742038</td>\n",
       "    </tr>\n",
       "    <tr>\n",
       "      <th>1</th>\n",
       "      <td>male</td>\n",
       "      <td>0.188908</td>\n",
       "    </tr>\n",
       "  </tbody>\n",
       "</table>\n",
       "</div>"
      ],
      "text/plain": [
       "      Sex  Survived\n",
       "0  female  0.742038\n",
       "1    male  0.188908"
      ]
     },
     "execution_count": 13,
     "metadata": {},
     "output_type": "execute_result"
    }
   ],
   "source": [
    "# Correlation of \"Sex\" with \"Survived\"\n",
    "df_train[[\"Sex\", \"Survived\"]].groupby(['Sex'], as_index=False).mean().sort_values(by='Survived', ascending=False)\n",
    "\n"
   ]
  },
  {
   "cell_type": "markdown",
   "id": "01cd97f3",
   "metadata": {
    "papermill": {
     "duration": 0.009251,
     "end_time": "2022-08-18T10:15:39.961657",
     "exception": false,
     "start_time": "2022-08-18T10:15:39.952406",
     "status": "completed"
    },
    "tags": []
   },
   "source": [
    "With over 74 % the survival rate for Sex = female is significantly higher than for male. We should **include** this, too. "
   ]
  },
  {
   "cell_type": "code",
   "execution_count": 14,
   "id": "50ee1aec",
   "metadata": {
    "execution": {
     "iopub.execute_input": "2022-08-18T10:15:39.982476Z",
     "iopub.status.busy": "2022-08-18T10:15:39.982133Z",
     "iopub.status.idle": "2022-08-18T10:15:39.994100Z",
     "shell.execute_reply": "2022-08-18T10:15:39.993108Z"
    },
    "papermill": {
     "duration": 0.024876,
     "end_time": "2022-08-18T10:15:39.996369",
     "exception": false,
     "start_time": "2022-08-18T10:15:39.971493",
     "status": "completed"
    },
    "tags": []
   },
   "outputs": [
    {
     "data": {
      "text/html": [
       "<div>\n",
       "<style scoped>\n",
       "    .dataframe tbody tr th:only-of-type {\n",
       "        vertical-align: middle;\n",
       "    }\n",
       "\n",
       "    .dataframe tbody tr th {\n",
       "        vertical-align: top;\n",
       "    }\n",
       "\n",
       "    .dataframe thead th {\n",
       "        text-align: right;\n",
       "    }\n",
       "</style>\n",
       "<table border=\"1\" class=\"dataframe\">\n",
       "  <thead>\n",
       "    <tr style=\"text-align: right;\">\n",
       "      <th></th>\n",
       "      <th>SibSp</th>\n",
       "      <th>Survived</th>\n",
       "    </tr>\n",
       "  </thead>\n",
       "  <tbody>\n",
       "    <tr>\n",
       "      <th>1</th>\n",
       "      <td>1</td>\n",
       "      <td>0.535885</td>\n",
       "    </tr>\n",
       "    <tr>\n",
       "      <th>2</th>\n",
       "      <td>2</td>\n",
       "      <td>0.464286</td>\n",
       "    </tr>\n",
       "    <tr>\n",
       "      <th>0</th>\n",
       "      <td>0</td>\n",
       "      <td>0.345395</td>\n",
       "    </tr>\n",
       "    <tr>\n",
       "      <th>3</th>\n",
       "      <td>3</td>\n",
       "      <td>0.250000</td>\n",
       "    </tr>\n",
       "    <tr>\n",
       "      <th>4</th>\n",
       "      <td>4</td>\n",
       "      <td>0.166667</td>\n",
       "    </tr>\n",
       "    <tr>\n",
       "      <th>5</th>\n",
       "      <td>5</td>\n",
       "      <td>0.000000</td>\n",
       "    </tr>\n",
       "    <tr>\n",
       "      <th>6</th>\n",
       "      <td>8</td>\n",
       "      <td>0.000000</td>\n",
       "    </tr>\n",
       "  </tbody>\n",
       "</table>\n",
       "</div>"
      ],
      "text/plain": [
       "   SibSp  Survived\n",
       "1      1  0.535885\n",
       "2      2  0.464286\n",
       "0      0  0.345395\n",
       "3      3  0.250000\n",
       "4      4  0.166667\n",
       "5      5  0.000000\n",
       "6      8  0.000000"
      ]
     },
     "execution_count": 14,
     "metadata": {},
     "output_type": "execute_result"
    }
   ],
   "source": [
    "# Correleation of \"SibSp\" with \"Survived\"\n",
    "df_train[[\"SibSp\", \"Survived\"]].groupby(['SibSp'], as_index=False).mean().sort_values(by='Survived', ascending=False)"
   ]
  },
  {
   "cell_type": "markdown",
   "id": "25eb0116",
   "metadata": {
    "papermill": {
     "duration": 0.009558,
     "end_time": "2022-08-18T10:15:40.016476",
     "exception": false,
     "start_time": "2022-08-18T10:15:40.006918",
     "status": "completed"
    },
    "tags": []
   },
   "source": [
    "As we said before, the \"SibSp\" and \"Parch\" columns may be used to create some **new feature**. (But why not separate?)"
   ]
  },
  {
   "cell_type": "code",
   "execution_count": 15,
   "id": "7cc9702b",
   "metadata": {
    "execution": {
     "iopub.execute_input": "2022-08-18T10:15:40.038728Z",
     "iopub.status.busy": "2022-08-18T10:15:40.037767Z",
     "iopub.status.idle": "2022-08-18T10:15:40.050483Z",
     "shell.execute_reply": "2022-08-18T10:15:40.049695Z"
    },
    "papermill": {
     "duration": 0.025167,
     "end_time": "2022-08-18T10:15:40.052142",
     "exception": false,
     "start_time": "2022-08-18T10:15:40.026975",
     "status": "completed"
    },
    "tags": []
   },
   "outputs": [
    {
     "data": {
      "text/html": [
       "<div>\n",
       "<style scoped>\n",
       "    .dataframe tbody tr th:only-of-type {\n",
       "        vertical-align: middle;\n",
       "    }\n",
       "\n",
       "    .dataframe tbody tr th {\n",
       "        vertical-align: top;\n",
       "    }\n",
       "\n",
       "    .dataframe thead th {\n",
       "        text-align: right;\n",
       "    }\n",
       "</style>\n",
       "<table border=\"1\" class=\"dataframe\">\n",
       "  <thead>\n",
       "    <tr style=\"text-align: right;\">\n",
       "      <th></th>\n",
       "      <th>Parch</th>\n",
       "      <th>Survived</th>\n",
       "    </tr>\n",
       "  </thead>\n",
       "  <tbody>\n",
       "    <tr>\n",
       "      <th>3</th>\n",
       "      <td>3</td>\n",
       "      <td>0.600000</td>\n",
       "    </tr>\n",
       "    <tr>\n",
       "      <th>1</th>\n",
       "      <td>1</td>\n",
       "      <td>0.550847</td>\n",
       "    </tr>\n",
       "    <tr>\n",
       "      <th>2</th>\n",
       "      <td>2</td>\n",
       "      <td>0.500000</td>\n",
       "    </tr>\n",
       "    <tr>\n",
       "      <th>0</th>\n",
       "      <td>0</td>\n",
       "      <td>0.343658</td>\n",
       "    </tr>\n",
       "    <tr>\n",
       "      <th>5</th>\n",
       "      <td>5</td>\n",
       "      <td>0.200000</td>\n",
       "    </tr>\n",
       "    <tr>\n",
       "      <th>4</th>\n",
       "      <td>4</td>\n",
       "      <td>0.000000</td>\n",
       "    </tr>\n",
       "    <tr>\n",
       "      <th>6</th>\n",
       "      <td>6</td>\n",
       "      <td>0.000000</td>\n",
       "    </tr>\n",
       "  </tbody>\n",
       "</table>\n",
       "</div>"
      ],
      "text/plain": [
       "   Parch  Survived\n",
       "3      3  0.600000\n",
       "1      1  0.550847\n",
       "2      2  0.500000\n",
       "0      0  0.343658\n",
       "5      5  0.200000\n",
       "4      4  0.000000\n",
       "6      6  0.000000"
      ]
     },
     "execution_count": 15,
     "metadata": {},
     "output_type": "execute_result"
    }
   ],
   "source": [
    "# Correleation of \"Parch\" with \"Survived\"\n",
    "df_train[[\"Parch\", \"Survived\"]].groupby(['Parch'], as_index=False).mean().sort_values(by='Survived', ascending=False)"
   ]
  },
  {
   "cell_type": "markdown",
   "id": "ad8aa389",
   "metadata": {
    "papermill": {
     "duration": 0.009564,
     "end_time": "2022-08-18T10:15:40.071568",
     "exception": false,
     "start_time": "2022-08-18T10:15:40.062004",
     "status": "completed"
    },
    "tags": []
   },
   "source": [
    "# Data preprocessing\n",
    "\n",
    "In this version of the Notebook we build two preprocessing pipelines, one for numerical features and one for categorical, which are then joined together. But first we create some new features, as mentioned before:"
   ]
  },
  {
   "cell_type": "code",
   "execution_count": 16,
   "id": "09711903",
   "metadata": {
    "execution": {
     "iopub.execute_input": "2022-08-18T10:15:40.093033Z",
     "iopub.status.busy": "2022-08-18T10:15:40.092470Z",
     "iopub.status.idle": "2022-08-18T10:15:40.105566Z",
     "shell.execute_reply": "2022-08-18T10:15:40.103875Z"
    },
    "papermill": {
     "duration": 0.026432,
     "end_time": "2022-08-18T10:15:40.107859",
     "exception": false,
     "start_time": "2022-08-18T10:15:40.081427",
     "status": "completed"
    },
    "tags": []
   },
   "outputs": [],
   "source": [
    "from sklearn.pipeline import Pipeline\n",
    "from sklearn.impute import SimpleImputer\n",
    "from sklearn.preprocessing import StandardScaler\n",
    "\n",
    "num_pipeline = Pipeline([\n",
    "        (\"imputer\", SimpleImputer(strategy=\"median\")),\n",
    "        (\"scaler\", StandardScaler())\n",
    "    ])"
   ]
  },
  {
   "cell_type": "code",
   "execution_count": 17,
   "id": "e6214a32",
   "metadata": {
    "execution": {
     "iopub.execute_input": "2022-08-18T10:15:40.129485Z",
     "iopub.status.busy": "2022-08-18T10:15:40.128781Z",
     "iopub.status.idle": "2022-08-18T10:15:40.132931Z",
     "shell.execute_reply": "2022-08-18T10:15:40.132399Z"
    },
    "papermill": {
     "duration": 0.016784,
     "end_time": "2022-08-18T10:15:40.134476",
     "exception": false,
     "start_time": "2022-08-18T10:15:40.117692",
     "status": "completed"
    },
    "tags": []
   },
   "outputs": [],
   "source": [
    "from sklearn.preprocessing import OneHotEncoder\n",
    "cat_pipeline = Pipeline([\n",
    "        (\"imputer\", SimpleImputer(strategy=\"most_frequent\")),\n",
    "        (\"cat_encoder\", OneHotEncoder(sparse=False)),\n",
    "    ])"
   ]
  },
  {
   "cell_type": "code",
   "execution_count": 18,
   "id": "82e1c934",
   "metadata": {
    "execution": {
     "iopub.execute_input": "2022-08-18T10:15:40.155590Z",
     "iopub.status.busy": "2022-08-18T10:15:40.155209Z",
     "iopub.status.idle": "2022-08-18T10:15:40.165070Z",
     "shell.execute_reply": "2022-08-18T10:15:40.164041Z"
    },
    "papermill": {
     "duration": 0.022744,
     "end_time": "2022-08-18T10:15:40.167164",
     "exception": false,
     "start_time": "2022-08-18T10:15:40.144420",
     "status": "completed"
    },
    "tags": []
   },
   "outputs": [],
   "source": [
    "from sklearn.compose import ColumnTransformer\n",
    "\n",
    "num_attribs = [\"Age\", \"SibSp\", \"Parch\", \"Fare\"]\n",
    "cat_attribs = [\"Pclass\", \"Sex\", \"Embarked\"]\n",
    "\n",
    "preprocess_pipeline = ColumnTransformer([\n",
    "        (\"num\", num_pipeline, num_attribs),\n",
    "        (\"cat\", cat_pipeline, cat_attribs),\n",
    "    ])"
   ]
  },
  {
   "cell_type": "markdown",
   "id": "92ac5ff0",
   "metadata": {
    "papermill": {
     "duration": 0.009201,
     "end_time": "2022-08-18T10:15:40.186136",
     "exception": false,
     "start_time": "2022-08-18T10:15:40.176935",
     "status": "completed"
    },
    "tags": []
   },
   "source": [
    "# Modeling\n",
    "\n",
    "Now that we have a preprocessing pipeline that takes the raw data and outputs numerical input features, we can feed to a Machine Learning model. We're using a cross-validation strategy for model validation."
   ]
  },
  {
   "cell_type": "code",
   "execution_count": 19,
   "id": "b17f00aa",
   "metadata": {
    "execution": {
     "iopub.execute_input": "2022-08-18T10:15:40.207352Z",
     "iopub.status.busy": "2022-08-18T10:15:40.207015Z",
     "iopub.status.idle": "2022-08-18T10:15:40.225655Z",
     "shell.execute_reply": "2022-08-18T10:15:40.224684Z"
    },
    "papermill": {
     "duration": 0.031483,
     "end_time": "2022-08-18T10:15:40.227561",
     "exception": false,
     "start_time": "2022-08-18T10:15:40.196078",
     "status": "completed"
    },
    "tags": []
   },
   "outputs": [
    {
     "data": {
      "text/plain": [
       "array([[-0.56573646,  0.43279337, -0.47367361, ...,  0.        ,\n",
       "         0.        ,  1.        ],\n",
       "       [ 0.66386103,  0.43279337, -0.47367361, ...,  1.        ,\n",
       "         0.        ,  0.        ],\n",
       "       [-0.25833709, -0.4745452 , -0.47367361, ...,  0.        ,\n",
       "         0.        ,  1.        ],\n",
       "       ...,\n",
       "       [-0.1046374 ,  0.43279337,  2.00893337, ...,  0.        ,\n",
       "         0.        ,  1.        ],\n",
       "       [-0.25833709, -0.4745452 , -0.47367361, ...,  1.        ,\n",
       "         0.        ,  0.        ],\n",
       "       [ 0.20276197, -0.4745452 , -0.47367361, ...,  0.        ,\n",
       "         1.        ,  0.        ]])"
      ]
     },
     "execution_count": 19,
     "metadata": {},
     "output_type": "execute_result"
    }
   ],
   "source": [
    "X_train = preprocess_pipeline.fit_transform(\n",
    "    df_train[num_attribs + cat_attribs])\n",
    "X_train"
   ]
  },
  {
   "cell_type": "code",
   "execution_count": 20,
   "id": "cb6df0d3",
   "metadata": {
    "execution": {
     "iopub.execute_input": "2022-08-18T10:15:40.249255Z",
     "iopub.status.busy": "2022-08-18T10:15:40.248917Z",
     "iopub.status.idle": "2022-08-18T10:15:40.253495Z",
     "shell.execute_reply": "2022-08-18T10:15:40.252463Z"
    },
    "papermill": {
     "duration": 0.01756,
     "end_time": "2022-08-18T10:15:40.255364",
     "exception": false,
     "start_time": "2022-08-18T10:15:40.237804",
     "status": "completed"
    },
    "tags": []
   },
   "outputs": [],
   "source": [
    "y_train = df_train[\"Survived\"]"
   ]
  },
  {
   "cell_type": "markdown",
   "id": "e723e50d",
   "metadata": {
    "papermill": {
     "duration": 0.009696,
     "end_time": "2022-08-18T10:15:40.275332",
     "exception": false,
     "start_time": "2022-08-18T10:15:40.265636",
     "status": "completed"
    },
    "tags": []
   },
   "source": [
    "We are now ready to train a classifier."
   ]
  },
  {
   "cell_type": "code",
   "execution_count": 21,
   "id": "8af0e155",
   "metadata": {
    "execution": {
     "iopub.execute_input": "2022-08-18T10:15:40.297464Z",
     "iopub.status.busy": "2022-08-18T10:15:40.296727Z",
     "iopub.status.idle": "2022-08-18T10:15:41.909371Z",
     "shell.execute_reply": "2022-08-18T10:15:41.908463Z"
    },
    "papermill": {
     "duration": 1.625242,
     "end_time": "2022-08-18T10:15:41.911057",
     "exception": false,
     "start_time": "2022-08-18T10:15:40.285815",
     "status": "completed"
    },
    "tags": []
   },
   "outputs": [
    {
     "data": {
      "text/plain": [
       "0.8092759051186016"
      ]
     },
     "execution_count": 21,
     "metadata": {},
     "output_type": "execute_result"
    }
   ],
   "source": [
    "from sklearn.ensemble import RandomForestClassifier\n",
    "from sklearn.model_selection import cross_val_score\n",
    "\n",
    "forest_clf = RandomForestClassifier(n_estimators=100, random_state=42)\n",
    "forest_scores = cross_val_score(forest_clf, X_train, y_train, cv=10)\n",
    "forest_scores.mean()\n",
    "\n",
    "# forest_clf.fit(X_train, y_train)"
   ]
  },
  {
   "cell_type": "code",
   "execution_count": 22,
   "id": "7b6bd5d7",
   "metadata": {
    "execution": {
     "iopub.execute_input": "2022-08-18T10:15:41.931842Z",
     "iopub.status.busy": "2022-08-18T10:15:41.931527Z",
     "iopub.status.idle": "2022-08-18T10:15:42.150897Z",
     "shell.execute_reply": "2022-08-18T10:15:42.149693Z"
    },
    "papermill": {
     "duration": 0.231688,
     "end_time": "2022-08-18T10:15:42.152749",
     "exception": false,
     "start_time": "2022-08-18T10:15:41.921061",
     "status": "completed"
    },
    "tags": []
   },
   "outputs": [
    {
     "data": {
      "text/plain": [
       "0.8249313358302123"
      ]
     },
     "execution_count": 22,
     "metadata": {},
     "output_type": "execute_result"
    }
   ],
   "source": [
    "from sklearn.svm import SVC\n",
    "\n",
    "svm_clf = SVC(gamma=\"auto\")\n",
    "svm_scores = cross_val_score(svm_clf, X_train, y_train, cv=10)\n",
    "svm_scores.mean()"
   ]
  },
  {
   "cell_type": "markdown",
   "id": "7b16e5b4",
   "metadata": {
    "papermill": {
     "duration": 0.009786,
     "end_time": "2022-08-18T10:15:42.173156",
     "exception": false,
     "start_time": "2022-08-18T10:15:42.163370",
     "status": "completed"
    },
    "tags": []
   },
   "source": [
    "The SVC performs a little better, so we choose it for prediction."
   ]
  },
  {
   "cell_type": "code",
   "execution_count": 23,
   "id": "6adf0eaf",
   "metadata": {
    "execution": {
     "iopub.execute_input": "2022-08-18T10:15:42.194596Z",
     "iopub.status.busy": "2022-08-18T10:15:42.194322Z",
     "iopub.status.idle": "2022-08-18T10:15:42.223786Z",
     "shell.execute_reply": "2022-08-18T10:15:42.222795Z"
    },
    "papermill": {
     "duration": 0.042224,
     "end_time": "2022-08-18T10:15:42.225588",
     "exception": false,
     "start_time": "2022-08-18T10:15:42.183364",
     "status": "completed"
    },
    "tags": []
   },
   "outputs": [
    {
     "data": {
      "text/plain": [
       "SVC(gamma='auto')"
      ]
     },
     "execution_count": 23,
     "metadata": {},
     "output_type": "execute_result"
    }
   ],
   "source": [
    "# Fit the model\n",
    "svm_clf.fit(X_train, y_train)"
   ]
  },
  {
   "cell_type": "code",
   "execution_count": 24,
   "id": "f5ac510a",
   "metadata": {
    "execution": {
     "iopub.execute_input": "2022-08-18T10:15:42.247559Z",
     "iopub.status.busy": "2022-08-18T10:15:42.247235Z",
     "iopub.status.idle": "2022-08-18T10:15:42.268478Z",
     "shell.execute_reply": "2022-08-18T10:15:42.267544Z"
    },
    "papermill": {
     "duration": 0.034839,
     "end_time": "2022-08-18T10:15:42.270677",
     "exception": false,
     "start_time": "2022-08-18T10:15:42.235838",
     "status": "completed"
    },
    "tags": []
   },
   "outputs": [],
   "source": [
    "# Make predictions\n",
    "X_test = preprocess_pipeline.transform(df_test[num_attribs + cat_attribs])\n",
    "y_pred = svm_clf.predict(X_test).astype(int)"
   ]
  },
  {
   "cell_type": "markdown",
   "id": "aefd7817",
   "metadata": {
    "papermill": {
     "duration": 0.010116,
     "end_time": "2022-08-18T10:15:42.291761",
     "exception": false,
     "start_time": "2022-08-18T10:15:42.281645",
     "status": "completed"
    },
    "tags": []
   },
   "source": [
    "# Submission"
   ]
  },
  {
   "cell_type": "code",
   "execution_count": 25,
   "id": "4f55429e",
   "metadata": {
    "execution": {
     "iopub.execute_input": "2022-08-18T10:15:42.314140Z",
     "iopub.status.busy": "2022-08-18T10:15:42.313804Z",
     "iopub.status.idle": "2022-08-18T10:15:42.320769Z",
     "shell.execute_reply": "2022-08-18T10:15:42.320221Z"
    },
    "papermill": {
     "duration": 0.020438,
     "end_time": "2022-08-18T10:15:42.322481",
     "exception": false,
     "start_time": "2022-08-18T10:15:42.302043",
     "status": "completed"
    },
    "tags": []
   },
   "outputs": [
    {
     "data": {
      "text/plain": [
       "PassengerId    int64\n",
       "Survived       int64\n",
       "dtype: object"
      ]
     },
     "execution_count": 25,
     "metadata": {},
     "output_type": "execute_result"
    }
   ],
   "source": [
    "passenger_id = df_test.PassengerId\n",
    "test = pd.DataFrame( { 'PassengerId': passenger_id , 'Survived': y_pred } )\n",
    "test.Survived.astype('int')\n",
    "test.dtypes"
   ]
  },
  {
   "cell_type": "code",
   "execution_count": 26,
   "id": "6d0cf426",
   "metadata": {
    "execution": {
     "iopub.execute_input": "2022-08-18T10:15:42.344536Z",
     "iopub.status.busy": "2022-08-18T10:15:42.344066Z",
     "iopub.status.idle": "2022-08-18T10:15:42.352286Z",
     "shell.execute_reply": "2022-08-18T10:15:42.351105Z"
    },
    "papermill": {
     "duration": 0.021629,
     "end_time": "2022-08-18T10:15:42.354280",
     "exception": false,
     "start_time": "2022-08-18T10:15:42.332651",
     "status": "completed"
    },
    "tags": []
   },
   "outputs": [
    {
     "name": "stdout",
     "output_type": "stream",
     "text": [
      "Submission was successfully saved!\n"
     ]
    }
   ],
   "source": [
    "# test.to_csv( 'titanic_forest_clf.csv', index = False )\n",
    "test.to_csv( 'titanic_svm_clf.csv', index = False )\n",
    "print(\"Submission was successfully saved!\")"
   ]
  }
 ],
 "metadata": {
  "kernelspec": {
   "display_name": "Python 3",
   "language": "python",
   "name": "python3"
  },
  "language_info": {
   "codemirror_mode": {
    "name": "ipython",
    "version": 3
   },
   "file_extension": ".py",
   "mimetype": "text/x-python",
   "name": "python",
   "nbconvert_exporter": "python",
   "pygments_lexer": "ipython3",
   "version": "3.7.12"
  },
  "papermill": {
   "default_parameters": {},
   "duration": 12.979465,
   "end_time": "2022-08-18T10:15:42.984680",
   "environment_variables": {},
   "exception": null,
   "input_path": "__notebook__.ipynb",
   "output_path": "__notebook__.ipynb",
   "parameters": {},
   "start_time": "2022-08-18T10:15:30.005215",
   "version": "2.3.4"
  }
 },
 "nbformat": 4,
 "nbformat_minor": 5
}
